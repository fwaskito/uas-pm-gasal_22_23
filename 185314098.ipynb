{
  "cells": [
    {
      "cell_type": "markdown",
      "metadata": {
        "id": "-s4VwWwA-F3H"
      },
      "source": [
        "- **Project**: UAS Pembelajaran Mesin\n",
        "- **Created**: Sun, 18th Dec 2022 1:15:24 PM\n",
        "- **Author**: F. Waskito\n",
        "- **Reference**: Randerson. (July 12, 2019). *Classifiy Images Using Convolutional Neural Network & Python*. Medium.com. [link](https://randerson112358.medium.com/classify-images-using-convolutional-neural-networks-python-a89cecc8c679)"
      ]
    },
    {
      "cell_type": "markdown",
      "metadata": {
        "id": "e69Dro5aGQaP"
      },
      "source": [
        "***"
      ]
    },
    {
      "cell_type": "markdown",
      "metadata": {
        "id": "-RIahUvx-F3Q"
      },
      "source": [
        "**Impor pustaka yang dibutuhkan**"
      ]
    },
    {
      "cell_type": "code",
      "execution_count": 1,
      "metadata": {
        "id": "4LZXoIwP-F3V"
      },
      "outputs": [],
      "source": [
        "# Impor pustaka yang dibutuhkan\n",
        "import tensorflow as tf\n",
        "from tensorflow import keras\n",
        "from keras.models import Sequential\n",
        "from keras.layers import Dense, Flatten, Conv2D, MaxPooling2D, Dropout\n",
        "from keras import layers\n",
        "from keras.utils import to_categorical\n",
        "import numpy as np\n",
        "import matplotlib.pyplot as plt\n",
        "import os\n",
        "\n",
        "plt.style.use('ggplot')"
      ]
    },
    {
      "cell_type": "markdown",
      "metadata": {
        "id": "658xaxOB-F3s"
      },
      "source": [
        "***Outset***"
      ]
    },
    {
      "cell_type": "code",
      "execution_count": 2,
      "metadata": {
        "id": "7w5cP-gy-F34"
      },
      "outputs": [],
      "source": [
        "# Tensorflow flag (Log all messages except INFO and WARNING)\n",
        "os.environ['TF_CPP_MIN_LOG_LEVEL'] = '2'"
      ]
    },
    {
      "cell_type": "code",
      "execution_count": 3,
      "metadata": {
        "colab": {
          "base_uri": "https://localhost:8080/",
          "height": 35
        },
        "id": "6Fsb7boy-F3x",
        "outputId": "2e5b2d5d-3fe8-4436-e0ae-80c7d246ff76"
      },
      "outputs": [
        {
          "data": {
            "application/vnd.google.colaboratory.intrinsic+json": {
              "type": "string"
            },
            "text/plain": [
              "'/content'"
            ]
          },
          "execution_count": 3,
          "metadata": {},
          "output_type": "execute_result"
        }
      ],
      "source": [
        "# Mengetahui current working directory\n",
        "os.getcwd()"
      ]
    },
    {
      "cell_type": "markdown",
      "metadata": {
        "id": "NOTzIy8m-F3-"
      },
      "source": [
        "***Load data***"
      ]
    },
    {
      "cell_type": "code",
      "execution_count": 4,
      "metadata": {
        "colab": {
          "base_uri": "https://localhost:8080/"
        },
        "id": "HxVU_XZd-F4J",
        "outputId": "fbf9cd96-09b8-4d1a-82c1-10f8ff8be031"
      },
      "outputs": [
        {
          "name": "stdout",
          "output_type": "stream",
          "text": [
            "Downloading data from https://www.cs.toronto.edu/~kriz/cifar-10-python.tar.gz\n",
            "170498071/170498071 [==============================] - 4s 0us/step\n"
          ]
        }
      ],
      "source": [
        "from keras.datasets import cifar10\n",
        "# Pre-packaged dataset cifar10 \n",
        "(X_train, y_train), (X_test, y_test) = cifar10.load_data()"
      ]
    },
    {
      "cell_type": "markdown",
      "metadata": {
        "id": "bD7O4jYc-F5L"
      },
      "source": [
        "### **Analisis Data**"
      ]
    },
    {
      "cell_type": "markdown",
      "metadata": {
        "id": "e-pkt7Mo-F5Q"
      },
      "source": [
        "**Menampilkan tipe data dari sampel latih dan uji**"
      ]
    },
    {
      "cell_type": "code",
      "execution_count": 5,
      "metadata": {
        "colab": {
          "base_uri": "https://localhost:8080/"
        },
        "id": "NkWuboEd-F5T",
        "outputId": "8d38a198-cb65-4974-f851-8cc4ebfdf90b"
      },
      "outputs": [
        {
          "name": "stdout",
          "output_type": "stream",
          "text": [
            "X_train type: <class 'numpy.ndarray'>\n",
            "y_train type: <class 'numpy.ndarray'>\n",
            "X_test type: <class 'numpy.ndarray'>\n",
            "y_test type: <class 'numpy.ndarray'>\n"
          ]
        }
      ],
      "source": [
        "print('X_train type:', type(X_train))\n",
        "print('y_train type:', type(y_train))\n",
        "print('X_test type:', type(X_test))\n",
        "print('y_test type:', type(y_test))"
      ]
    },
    {
      "cell_type": "markdown",
      "metadata": {
        "id": "84RRG8LO-F5a"
      },
      "source": [
        "**Menampilkan *shape* dari sampel latih dan uji**"
      ]
    },
    {
      "cell_type": "code",
      "execution_count": 6,
      "metadata": {
        "colab": {
          "base_uri": "https://localhost:8080/"
        },
        "id": "N16c2ubx-F5c",
        "outputId": "8e2238bd-b623-43a5-8235-ac32c885794e"
      },
      "outputs": [
        {
          "name": "stdout",
          "output_type": "stream",
          "text": [
            "X_train shape: (50000, 32, 32, 3)\n",
            "y_train shape: (50000, 1)\n",
            "X_test shape: (10000, 32, 32, 3)\n",
            "y_test shape: (10000, 1)\n"
          ]
        }
      ],
      "source": [
        "print('X_train shape:', X_train.shape)\n",
        "print('y_train shape:', y_train.shape)\n",
        "print('X_test shape:', X_test.shape)\n",
        "print('y_test shape:', y_test.shape)"
      ]
    },
    {
      "cell_type": "markdown",
      "metadata": {
        "id": "4Klkmux5-F5e"
      },
      "source": [
        "**Menelusuri salah satu citra**"
      ]
    },
    {
      "cell_type": "code",
      "execution_count": 7,
      "metadata": {
        "colab": {
          "base_uri": "https://localhost:8080/"
        },
        "id": "3meSJBd3-F5g",
        "outputId": "c2ac32ba-eb78-4a41-d3bb-687466b7232b"
      },
      "outputs": [
        {
          "name": "stdout",
          "output_type": "stream",
          "text": [
            "[[[ 17   3   2]\n",
            "  [ 17   3   2]\n",
            "  [ 17   2   1]\n",
            "  ...\n",
            "  [ 23  13  11]\n",
            "  [ 22  12  10]\n",
            "  [ 19   9   7]]\n",
            "\n",
            " [[ 18   4   3]\n",
            "  [ 18   4   3]\n",
            "  [ 18   4   3]\n",
            "  ...\n",
            "  [ 24  14  12]\n",
            "  [ 23  13  11]\n",
            "  [ 22  12  10]]\n",
            "\n",
            " [[ 18   4   3]\n",
            "  [ 18   4   3]\n",
            "  [ 19   5   4]\n",
            "  ...\n",
            "  [ 24  14  12]\n",
            "  [ 23  13  11]\n",
            "  [ 23  13  11]]\n",
            "\n",
            " ...\n",
            "\n",
            " [[217 214 223]\n",
            "  [226 219 227]\n",
            "  [210 201 213]\n",
            "  ...\n",
            "  [ 33  24  17]\n",
            "  [ 32  23  16]\n",
            "  [ 33  24  17]]\n",
            "\n",
            " [[219 215 230]\n",
            "  [222 215 229]\n",
            "  [214 208 225]\n",
            "  ...\n",
            "  [ 35  26  19]\n",
            "  [ 34  25  18]\n",
            "  [ 33  24  17]]\n",
            "\n",
            " [[210 208 223]\n",
            "  [221 216 229]\n",
            "  [215 212 227]\n",
            "  ...\n",
            "  [ 36  27  20]\n",
            "  [ 34  25  18]\n",
            "  [ 32  23  16]]]\n"
          ]
        }
      ],
      "source": [
        "index = 13\n",
        "\n",
        "print(X_train[index])  # citra urutan ke-14 pada sampel latih"
      ]
    },
    {
      "cell_type": "code",
      "execution_count": 8,
      "metadata": {
        "colab": {
          "base_uri": "https://localhost:8080/",
          "height": 266
        },
        "id": "9oSRK4ld-F5h",
        "outputId": "d3d5c598-a5d0-4379-8ad0-390d1b8fe584"
      },
      "outputs": [
        {
          "data": {
            "image/png": "[encoded data removed]",
            "text/plain": [
              "<Figure size 432x288 with 1 Axes>"
            ]
          },
          "metadata": {},
          "output_type": "display_data"
        }
      ],
      "source": [
        "# Menampilkan citra sebelumnya secara visual\n",
        "img = plt.imshow(X_train[index])"
      ]
    },
    {
      "cell_type": "code",
      "execution_count": 9,
      "metadata": {
        "colab": {
          "base_uri": "https://localhost:8080/"
        },
        "id": "7lBunuj9-F5j",
        "outputId": "06dc637d-a8ef-4736-b101-e4842425289e"
      },
      "outputs": [
        {
          "name": "stdout",
          "output_type": "stream",
          "text": [
            "The image label is:  [2]\n"
          ]
        }
      ],
      "source": [
        "# Mengetahui label (bertipe kategorik-numerik) dari citra\n",
        "print('The image label is: ', y_train[index])"
      ]
    },
    {
      "cell_type": "code",
      "execution_count": 10,
      "metadata": {
        "colab": {
          "base_uri": "https://localhost:8080/"
        },
        "id": "6LmBimg1-F5p",
        "outputId": "3e00cb8e-dfea-4d93-b52a-a3712d6cde4c"
      },
      "outputs": [
        {
          "name": "stdout",
          "output_type": "stream",
          "text": [
            "Number  class\n",
            "-------------------------\n",
            "0       airplane\n",
            "1       automobile\n",
            "2       bird \n",
            "3       cat  \n",
            "4       deer \n",
            "5       dog  \n",
            "6       frog \n",
            "7       horse\n",
            "8       ship \n",
            "9       truck\n"
          ]
        }
      ],
      "source": [
        "# Buat representasi label terhadap kelas (kategorik-string)\n",
        "label_classes = ['airplane', 'automobile', 'bird', 'cat', 'deer', \n",
        "                'dog', 'frog', 'horse', 'ship', 'truck']\n",
        "\n",
        "print('Number ', 'class')\n",
        "print('-------------------------')\n",
        "for i in range(len(label_classes)):\n",
        "    print(str(i).ljust(7), str(label_classes[i]).ljust(5))"
      ]
    },
    {
      "cell_type": "code",
      "execution_count": 11,
      "metadata": {
        "colab": {
          "base_uri": "https://localhost:8080/"
        },
        "id": "i-Qj8Fsf-F5s",
        "outputId": "6f4ce9bb-fb5e-42a0-97f9-edd419143807"
      },
      "outputs": [
        {
          "name": "stdout",
          "output_type": "stream",
          "text": [
            "The image class is:  bird\n"
          ]
        }
      ],
      "source": [
        "# Tampilkan kelas dari citra sebelumnya\n",
        "print('The image class is: ', label_classes[y_train[index][0]])"
      ]
    },
    {
      "cell_type": "markdown",
      "metadata": {
        "id": "oqzPEXvb-F5u"
      },
      "source": [
        "### **Praprosess**"
      ]
    },
    {
      "cell_type": "markdown",
      "metadata": {
        "id": "1-qzQ7iA-F5w"
      },
      "source": [
        "***Label encoding* (dengan *one-hot encoding*)**"
      ]
    },
    {
      "cell_type": "code",
      "execution_count": 12,
      "metadata": {
        "colab": {
          "base_uri": "https://localhost:8080/"
        },
        "id": "vxNtHcwk-F5x",
        "outputId": "c8bc2140-5e56-4dfc-d3c5-402fd915f594"
      },
      "outputs": [
        {
          "name": "stdout",
          "output_type": "stream",
          "text": [
            "[[0. 0. 0. ... 0. 0. 0.]\n",
            " [0. 0. 0. ... 0. 0. 1.]\n",
            " [0. 0. 0. ... 0. 0. 1.]\n",
            " ...\n",
            " [0. 0. 0. ... 0. 0. 1.]\n",
            " [0. 1. 0. ... 0. 0. 0.]\n",
            " [0. 1. 0. ... 0. 0. 0.]]\n"
          ]
        }
      ],
      "source": [
        "y_train_one_hot = to_categorical(y_train)\n",
        "y_test_one_hot = to_categorical(y_test)\n",
        "\n",
        "# Hasil encoding pada label sampel latih\n",
        "print(y_train_one_hot)"
      ]
    },
    {
      "cell_type": "code",
      "execution_count": 13,
      "metadata": {
        "colab": {
          "base_uri": "https://localhost:8080/"
        },
        "id": "PdziM0tl-F55",
        "outputId": "c33286ec-93ac-4577-b7db-d146a248a56b"
      },
      "outputs": [
        {
          "name": "stdout",
          "output_type": "stream",
          "text": [
            "The one-hot label is:  [0. 0. 1. 0. 0. 0. 0. 0. 0. 0.]\n"
          ]
        }
      ],
      "source": [
        "# Hasil encoding dari label citra urutan ke-14 pada sampel latih\n",
        "print('The one-hot label is: ', y_train_one_hot[index])"
      ]
    },
    {
      "cell_type": "markdown",
      "metadata": {
        "id": "YhWFynJp-F56"
      },
      "source": [
        "**Normalisasi Citra**"
      ]
    },
    {
      "cell_type": "code",
      "execution_count": 14,
      "metadata": {
        "colab": {
          "base_uri": "https://localhost:8080/"
        },
        "id": "WhhZvM-f3poS",
        "outputId": "19e1e420-9911-49ab-d2f3-49798f3abe2a"
      },
      "outputs": [
        {
          "name": "stdout",
          "output_type": "stream",
          "text": [
            "17\n",
            "<class 'numpy.uint8'>\n"
          ]
        }
      ],
      "source": [
        "# nilai dan tipe data kanal sebelum normasisasi\n",
        "print(X_train[index][0][0][0])\n",
        "print(type(X_train[index][0][0][0]))"
      ]
    },
    {
      "cell_type": "code",
      "execution_count": 15,
      "metadata": {
        "colab": {
          "base_uri": "https://localhost:8080/"
        },
        "id": "bxlELA6--F57",
        "outputId": "c2b6b629-d8a4-40a9-a3ec-521a2b3e4c0f"
      },
      "outputs": [
        {
          "name": "stdout",
          "output_type": "stream",
          "text": [
            "[[[[0.23137255 0.24313725 0.24705882]\n",
            "   [0.16862745 0.18039216 0.17647059]\n",
            "   [0.19607843 0.18823529 0.16862745]\n",
            "   ...\n",
            "   [0.61960784 0.51764706 0.42352941]\n",
            "   [0.59607843 0.49019608 0.4       ]\n",
            "   [0.58039216 0.48627451 0.40392157]]\n",
            "\n",
            "  [[0.0627451  0.07843137 0.07843137]\n",
            "   [0.         0.         0.        ]\n",
            "   [0.07058824 0.03137255 0.        ]\n",
            "   ...\n",
            "   [0.48235294 0.34509804 0.21568627]\n",
            "   [0.46666667 0.3254902  0.19607843]\n",
            "   [0.47843137 0.34117647 0.22352941]]\n",
            "\n",
            "  [[0.09803922 0.09411765 0.08235294]\n",
            "   [0.0627451  0.02745098 0.        ]\n",
            "   [0.19215686 0.10588235 0.03137255]\n",
            "   ...\n",
            "   [0.4627451  0.32941176 0.19607843]\n",
            "   [0.47058824 0.32941176 0.19607843]\n",
            "   [0.42745098 0.28627451 0.16470588]]\n",
            "\n",
            "  ...\n",
            "\n",
            "  [[0.81568627 0.66666667 0.37647059]\n",
            "   [0.78823529 0.6        0.13333333]\n",
            "   [0.77647059 0.63137255 0.10196078]\n",
            "   ...\n",
            "   [0.62745098 0.52156863 0.2745098 ]\n",
            "   [0.21960784 0.12156863 0.02745098]\n",
            "   [0.20784314 0.13333333 0.07843137]]\n",
            "\n",
            "  [[0.70588235 0.54509804 0.37647059]\n",
            "   [0.67843137 0.48235294 0.16470588]\n",
            "   [0.72941176 0.56470588 0.11764706]\n",
            "   ...\n",
            "   [0.72156863 0.58039216 0.36862745]\n",
            "   [0.38039216 0.24313725 0.13333333]\n",
            "   [0.3254902  0.20784314 0.13333333]]\n",
            "\n",
            "  [[0.69411765 0.56470588 0.45490196]\n",
            "   [0.65882353 0.50588235 0.36862745]\n",
            "   [0.70196078 0.55686275 0.34117647]\n",
            "   ...\n",
            "   [0.84705882 0.72156863 0.54901961]\n",
            "   [0.59215686 0.4627451  0.32941176]\n",
            "   [0.48235294 0.36078431 0.28235294]]]\n",
            "\n",
            "\n",
            " [[[0.60392157 0.69411765 0.73333333]\n",
            "   [0.49411765 0.5372549  0.53333333]\n",
            "   [0.41176471 0.40784314 0.37254902]\n",
            "   ...\n",
            "   [0.35686275 0.37254902 0.27843137]\n",
            "   [0.34117647 0.35294118 0.27843137]\n",
            "   [0.30980392 0.31764706 0.2745098 ]]\n",
            "\n",
            "  [[0.54901961 0.62745098 0.6627451 ]\n",
            "   [0.56862745 0.6        0.60392157]\n",
            "   [0.49019608 0.49019608 0.4627451 ]\n",
            "   ...\n",
            "   [0.37647059 0.38823529 0.30588235]\n",
            "   [0.30196078 0.31372549 0.24313725]\n",
            "   [0.27843137 0.28627451 0.23921569]]\n",
            "\n",
            "  [[0.54901961 0.60784314 0.64313725]\n",
            "   [0.54509804 0.57254902 0.58431373]\n",
            "   [0.45098039 0.45098039 0.43921569]\n",
            "   ...\n",
            "   [0.30980392 0.32156863 0.25098039]\n",
            "   [0.26666667 0.2745098  0.21568627]\n",
            "   [0.2627451  0.27058824 0.21568627]]\n",
            "\n",
            "  ...\n",
            "\n",
            "  [[0.68627451 0.65490196 0.65098039]\n",
            "   [0.61176471 0.60392157 0.62745098]\n",
            "   [0.60392157 0.62745098 0.66666667]\n",
            "   ...\n",
            "   [0.16470588 0.13333333 0.14117647]\n",
            "   [0.23921569 0.20784314 0.22352941]\n",
            "   [0.36470588 0.3254902  0.35686275]]\n",
            "\n",
            "  [[0.64705882 0.60392157 0.50196078]\n",
            "   [0.61176471 0.59607843 0.50980392]\n",
            "   [0.62352941 0.63137255 0.55686275]\n",
            "   ...\n",
            "   [0.40392157 0.36470588 0.37647059]\n",
            "   [0.48235294 0.44705882 0.47058824]\n",
            "   [0.51372549 0.4745098  0.51372549]]\n",
            "\n",
            "  [[0.63921569 0.58039216 0.47058824]\n",
            "   [0.61960784 0.58039216 0.47843137]\n",
            "   [0.63921569 0.61176471 0.52156863]\n",
            "   ...\n",
            "   [0.56078431 0.52156863 0.54509804]\n",
            "   [0.56078431 0.5254902  0.55686275]\n",
            "   [0.56078431 0.52156863 0.56470588]]]\n",
            "\n",
            "\n",
            " [[[1.         1.         1.        ]\n",
            "   [0.99215686 0.99215686 0.99215686]\n",
            "   [0.99215686 0.99215686 0.99215686]\n",
            "   ...\n",
            "   [0.99215686 0.99215686 0.99215686]\n",
            "   [0.99215686 0.99215686 0.99215686]\n",
            "   [0.99215686 0.99215686 0.99215686]]\n",
            "\n",
            "  [[1.         1.         1.        ]\n",
            "   [1.         1.         1.        ]\n",
            "   [1.         1.         1.        ]\n",
            "   ...\n",
            "   [1.         1.         1.        ]\n",
            "   [1.         1.         1.        ]\n",
            "   [1.         1.         1.        ]]\n",
            "\n",
            "  [[1.         1.         1.        ]\n",
            "   [0.99607843 0.99607843 0.99607843]\n",
            "   [0.99607843 0.99607843 0.99607843]\n",
            "   ...\n",
            "   [0.99607843 0.99607843 0.99607843]\n",
            "   [0.99607843 0.99607843 0.99607843]\n",
            "   [0.99607843 0.99607843 0.99607843]]\n",
            "\n",
            "  ...\n",
            "\n",
            "  [[0.44313725 0.47058824 0.43921569]\n",
            "   [0.43529412 0.4627451  0.43529412]\n",
            "   [0.41176471 0.43921569 0.41568627]\n",
            "   ...\n",
            "   [0.28235294 0.31764706 0.31372549]\n",
            "   [0.28235294 0.31372549 0.30980392]\n",
            "   [0.28235294 0.31372549 0.30980392]]\n",
            "\n",
            "  [[0.43529412 0.4627451  0.43137255]\n",
            "   [0.40784314 0.43529412 0.40784314]\n",
            "   [0.38823529 0.41568627 0.38431373]\n",
            "   ...\n",
            "   [0.26666667 0.29411765 0.28627451]\n",
            "   [0.2745098  0.29803922 0.29411765]\n",
            "   [0.30588235 0.32941176 0.32156863]]\n",
            "\n",
            "  [[0.41568627 0.44313725 0.41176471]\n",
            "   [0.38823529 0.41568627 0.38431373]\n",
            "   [0.37254902 0.4        0.36862745]\n",
            "   ...\n",
            "   [0.30588235 0.33333333 0.3254902 ]\n",
            "   [0.30980392 0.33333333 0.3254902 ]\n",
            "   [0.31372549 0.3372549  0.32941176]]]\n",
            "\n",
            "\n",
            " ...\n",
            "\n",
            "\n",
            " [[[0.1372549  0.69803922 0.92156863]\n",
            "   [0.15686275 0.69019608 0.9372549 ]\n",
            "   [0.16470588 0.69019608 0.94509804]\n",
            "   ...\n",
            "   [0.38823529 0.69411765 0.85882353]\n",
            "   [0.30980392 0.57647059 0.77254902]\n",
            "   [0.34901961 0.58039216 0.74117647]]\n",
            "\n",
            "  [[0.22352941 0.71372549 0.91764706]\n",
            "   [0.17254902 0.72156863 0.98039216]\n",
            "   [0.19607843 0.71764706 0.94117647]\n",
            "   ...\n",
            "   [0.61176471 0.71372549 0.78431373]\n",
            "   [0.55294118 0.69411765 0.80784314]\n",
            "   [0.45490196 0.58431373 0.68627451]]\n",
            "\n",
            "  [[0.38431373 0.77254902 0.92941176]\n",
            "   [0.25098039 0.74117647 0.98823529]\n",
            "   [0.27058824 0.75294118 0.96078431]\n",
            "   ...\n",
            "   [0.7372549  0.76470588 0.80784314]\n",
            "   [0.46666667 0.52941176 0.57647059]\n",
            "   [0.23921569 0.30980392 0.35294118]]\n",
            "\n",
            "  ...\n",
            "\n",
            "  [[0.28627451 0.30980392 0.30196078]\n",
            "   [0.20784314 0.24705882 0.26666667]\n",
            "   [0.21176471 0.26666667 0.31372549]\n",
            "   ...\n",
            "   [0.06666667 0.15686275 0.25098039]\n",
            "   [0.08235294 0.14117647 0.2       ]\n",
            "   [0.12941176 0.18823529 0.19215686]]\n",
            "\n",
            "  [[0.23921569 0.26666667 0.29411765]\n",
            "   [0.21568627 0.2745098  0.3372549 ]\n",
            "   [0.22352941 0.30980392 0.40392157]\n",
            "   ...\n",
            "   [0.09411765 0.18823529 0.28235294]\n",
            "   [0.06666667 0.1372549  0.20784314]\n",
            "   [0.02745098 0.09019608 0.1254902 ]]\n",
            "\n",
            "  [[0.17254902 0.21960784 0.28627451]\n",
            "   [0.18039216 0.25882353 0.34509804]\n",
            "   [0.19215686 0.30196078 0.41176471]\n",
            "   ...\n",
            "   [0.10588235 0.20392157 0.30196078]\n",
            "   [0.08235294 0.16862745 0.25882353]\n",
            "   [0.04705882 0.12156863 0.19607843]]]\n",
            "\n",
            "\n",
            " [[[0.74117647 0.82745098 0.94117647]\n",
            "   [0.72941176 0.81568627 0.9254902 ]\n",
            "   [0.7254902  0.81176471 0.92156863]\n",
            "   ...\n",
            "   [0.68627451 0.76470588 0.87843137]\n",
            "   [0.6745098  0.76078431 0.87058824]\n",
            "   [0.6627451  0.76078431 0.8627451 ]]\n",
            "\n",
            "  [[0.76078431 0.82352941 0.9372549 ]\n",
            "   [0.74901961 0.81176471 0.9254902 ]\n",
            "   [0.74509804 0.80784314 0.92156863]\n",
            "   ...\n",
            "   [0.67843137 0.75294118 0.8627451 ]\n",
            "   [0.67058824 0.74901961 0.85490196]\n",
            "   [0.65490196 0.74509804 0.84705882]]\n",
            "\n",
            "  [[0.81568627 0.85882353 0.95686275]\n",
            "   [0.80392157 0.84705882 0.94117647]\n",
            "   [0.8        0.84313725 0.9372549 ]\n",
            "   ...\n",
            "   [0.68627451 0.74901961 0.85098039]\n",
            "   [0.6745098  0.74509804 0.84705882]\n",
            "   [0.6627451  0.74901961 0.84313725]]\n",
            "\n",
            "  ...\n",
            "\n",
            "  [[0.81176471 0.78039216 0.70980392]\n",
            "   [0.79607843 0.76470588 0.68627451]\n",
            "   [0.79607843 0.76862745 0.67843137]\n",
            "   ...\n",
            "   [0.52941176 0.51764706 0.49803922]\n",
            "   [0.63529412 0.61960784 0.58823529]\n",
            "   [0.65882353 0.63921569 0.59215686]]\n",
            "\n",
            "  [[0.77647059 0.74509804 0.66666667]\n",
            "   [0.74117647 0.70980392 0.62352941]\n",
            "   [0.70588235 0.6745098  0.57647059]\n",
            "   ...\n",
            "   [0.69803922 0.67058824 0.62745098]\n",
            "   [0.68627451 0.6627451  0.61176471]\n",
            "   [0.68627451 0.6627451  0.60392157]]\n",
            "\n",
            "  [[0.77647059 0.74117647 0.67843137]\n",
            "   [0.74117647 0.70980392 0.63529412]\n",
            "   [0.69803922 0.66666667 0.58431373]\n",
            "   ...\n",
            "   [0.76470588 0.72156863 0.6627451 ]\n",
            "   [0.76862745 0.74117647 0.67058824]\n",
            "   [0.76470588 0.74509804 0.67058824]]]\n",
            "\n",
            "\n",
            " [[[0.89803922 0.89803922 0.9372549 ]\n",
            "   [0.9254902  0.92941176 0.96862745]\n",
            "   [0.91764706 0.9254902  0.96862745]\n",
            "   ...\n",
            "   [0.85098039 0.85882353 0.91372549]\n",
            "   [0.86666667 0.8745098  0.91764706]\n",
            "   [0.87058824 0.8745098  0.91372549]]\n",
            "\n",
            "  [[0.87058824 0.86666667 0.89803922]\n",
            "   [0.9372549  0.9372549  0.97647059]\n",
            "   [0.91372549 0.91764706 0.96470588]\n",
            "   ...\n",
            "   [0.8745098  0.8745098  0.9254902 ]\n",
            "   [0.89019608 0.89411765 0.93333333]\n",
            "   [0.82352941 0.82745098 0.8627451 ]]\n",
            "\n",
            "  [[0.83529412 0.80784314 0.82745098]\n",
            "   [0.91764706 0.90980392 0.9372549 ]\n",
            "   [0.90588235 0.91372549 0.95686275]\n",
            "   ...\n",
            "   [0.8627451  0.8627451  0.90980392]\n",
            "   [0.8627451  0.85882353 0.90980392]\n",
            "   [0.79215686 0.79607843 0.84313725]]\n",
            "\n",
            "  ...\n",
            "\n",
            "  [[0.58823529 0.56078431 0.52941176]\n",
            "   [0.54901961 0.52941176 0.49803922]\n",
            "   [0.51764706 0.49803922 0.47058824]\n",
            "   ...\n",
            "   [0.87843137 0.87058824 0.85490196]\n",
            "   [0.90196078 0.89411765 0.88235294]\n",
            "   [0.94509804 0.94509804 0.93333333]]\n",
            "\n",
            "  [[0.5372549  0.51764706 0.49411765]\n",
            "   [0.50980392 0.49803922 0.47058824]\n",
            "   [0.49019608 0.4745098  0.45098039]\n",
            "   ...\n",
            "   [0.70980392 0.70588235 0.69803922]\n",
            "   [0.79215686 0.78823529 0.77647059]\n",
            "   [0.83137255 0.82745098 0.81176471]]\n",
            "\n",
            "  [[0.47843137 0.46666667 0.44705882]\n",
            "   [0.4627451  0.45490196 0.43137255]\n",
            "   [0.47058824 0.45490196 0.43529412]\n",
            "   ...\n",
            "   [0.70196078 0.69411765 0.67843137]\n",
            "   [0.64313725 0.64313725 0.63529412]\n",
            "   [0.63921569 0.63921569 0.63137255]]]]\n"
          ]
        }
      ],
      "source": [
        "# ubah nilai citra pada sampel latih dan uji \n",
        "# dari interval [0,255] menjadi ke [0,1]\n",
        "X_train = X_train / 255\n",
        "X_test = X_test / 255\n",
        "\n",
        "print(X_train)"
      ]
    },
    {
      "cell_type": "code",
      "execution_count": 16,
      "metadata": {
        "colab": {
          "base_uri": "https://localhost:8080/",
          "height": 266
        },
        "id": "8WjMwdCBvWnJ",
        "outputId": "f01ca49d-8a44-4915-8c40-4034be24065a"
      },
      "outputs": [
        {
          "data": {
            "image/png": "[encoded data removed]",
            "text/plain": [
              "<Figure size 432x288 with 1 Axes>"
            ]
          },
          "metadata": {},
          "output_type": "display_data"
        }
      ],
      "source": [
        "# citra ke-14 setelah normalisasi\n",
        "img = plt.imshow(X_train[index])"
      ]
    },
    {
      "cell_type": "code",
      "execution_count": 17,
      "metadata": {
        "colab": {
          "base_uri": "https://localhost:8080/"
        },
        "id": "q6FT2VPo3L7l",
        "outputId": "e8f639fa-9802-44a8-c4ab-b7a80c486a37"
      },
      "outputs": [
        {
          "name": "stdout",
          "output_type": "stream",
          "text": [
            "0.06666666666666667\n",
            "<class 'numpy.float64'>\n"
          ]
        }
      ],
      "source": [
        "# nilai dan tipe data kanal setelah normasisasi\n",
        "print(X_train[index][0][0][0])\n",
        "print(type(X_train[index][0][0][0]))"
      ]
    },
    {
      "cell_type": "markdown",
      "metadata": {
        "id": "nMN3N8hJ-F5-"
      },
      "source": [
        "### **Pemodelan**"
      ]
    },
    {
      "cell_type": "markdown",
      "metadata": {
        "id": "MgE-eJxG-F5-"
      },
      "source": [
        "**Bangun arsitektur *Convolutional Neural Network***\n",
        "\n",
        "\n"
      ]
    },
    {
      "cell_type": "code",
      "execution_count": 18,
      "metadata": {
        "colab": {
          "base_uri": "https://localhost:8080/"
        },
        "id": "ugon0JQ6-F5_",
        "outputId": "e37212bc-ce84-4603-9f8f-759970c4ad01"
      },
      "outputs": [
        {
          "name": "stdout",
          "output_type": "stream",
          "text": [
            "Model summary:\n",
            "\n",
            "Model: \"sequential\"\n",
            "_________________________________________________________________\n",
            " Layer (type)                Output Shape              Param #   \n",
            "=================================================================\n",
            " conv2d (Conv2D)             (None, 28, 28, 32)        2432      \n",
            "                                                                 \n",
            " max_pooling2d (MaxPooling2D  (None, 14, 14, 32)       0         \n",
            " )                                                               \n",
            "                                                                 \n",
            " conv2d_1 (Conv2D)           (None, 10, 10, 64)        51264     \n",
            "                                                                 \n",
            " max_pooling2d_1 (MaxPooling  (None, 5, 5, 64)         0         \n",
            " 2D)                                                             \n",
            "                                                                 \n",
            " flatten (Flatten)           (None, 1600)              0         \n",
            "                                                                 \n",
            " dense (Dense)               (None, 1000)              1601000   \n",
            "                                                                 \n",
            " dropout (Dropout)           (None, 1000)              0         \n",
            "                                                                 \n",
            " dense_1 (Dense)             (None, 500)               500500    \n",
            "                                                                 \n",
            " dropout_1 (Dropout)         (None, 500)               0         \n",
            "                                                                 \n",
            " dense_2 (Dense)             (None, 250)               125250    \n",
            "                                                                 \n",
            " dense_3 (Dense)             (None, 10)                2510      \n",
            "                                                                 \n",
            "=================================================================\n",
            "Total params: 2,282,956\n",
            "Trainable params: 2,282,956\n",
            "Non-trainable params: 0\n",
            "_________________________________________________________________\n"
          ]
        }
      ],
      "source": [
        "model = Sequential()\n",
        "# Convolutional and pooling layers\n",
        "model.add(Conv2D(32, (5, 5), activation='relu', input_shape=(32, 32, 3)))\n",
        "model.add(MaxPooling2D(pool_size=(2, 2)))\n",
        "model.add(Conv2D(64, (5, 5), activation='relu'))\n",
        "model.add(MaxPooling2D(pool_size=(2, 2)))\n",
        "model.add(Flatten())\n",
        "# Neural Network and dropout layers\n",
        "model.add(Dense(1000, activation='relu'))\n",
        "model.add(Dropout(0.5))\n",
        "model.add(Dense(500, activation='relu'))\n",
        "model.add(Dropout(0.5))\n",
        "model.add(Dense(250, activation='relu'))\n",
        "model.add(Dense(10, activation='softmax'))\n",
        "\n",
        "print('Model summary:\\n')\n",
        "model.summary()"
      ]
    },
    {
      "cell_type": "markdown",
      "metadata": {
        "id": "z6bqlhs7-F6D"
      },
      "source": [
        "**Kompilasi model**"
      ]
    },
    {
      "cell_type": "code",
      "execution_count": 19,
      "metadata": {
        "id": "0hCORjQR-F6F"
      },
      "outputs": [],
      "source": [
        "model.compile(loss='categorical_crossentropy',\n",
        "              optimizer='adam',\n",
        "              metrics=['accuracy'])"
      ]
    },
    {
      "cell_type": "markdown",
      "metadata": {
        "id": "-tKv49O0-F6O"
      },
      "source": [
        "### **Pelatihan Model**"
      ]
    },
    {
      "cell_type": "code",
      "execution_count": 20,
      "metadata": {
        "colab": {
          "base_uri": "https://localhost:8080/"
        },
        "id": "Vl-d-Jb1-F6Q",
        "outputId": "0fdcf6b7-bbd4-422a-cc85-9167b93c9ec3"
      },
      "outputs": [
        {
          "name": "stdout",
          "output_type": "stream",
          "text": [
            "Epoch 1/10\n",
            "157/157 [==============================] - 11s 15ms/step - loss: 1.7848 - accuracy: 0.3288 - val_loss: 1.4418 - val_accuracy: 0.4702\n",
            "Epoch 2/10\n",
            "157/157 [==============================] - 2s 12ms/step - loss: 1.3740 - accuracy: 0.4997 - val_loss: 1.2327 - val_accuracy: 0.5578\n",
            "Epoch 3/10\n",
            "157/157 [==============================] - 2s 12ms/step - loss: 1.1865 - accuracy: 0.5746 - val_loss: 1.0841 - val_accuracy: 0.6143\n",
            "Epoch 4/10\n",
            "157/157 [==============================] - 2s 12ms/step - loss: 1.0640 - accuracy: 0.6204 - val_loss: 1.0355 - val_accuracy: 0.6294\n",
            "Epoch 5/10\n",
            "157/157 [==============================] - 2s 12ms/step - loss: 0.9803 - accuracy: 0.6551 - val_loss: 0.9695 - val_accuracy: 0.6595\n",
            "Epoch 6/10\n",
            "157/157 [==============================] - 2s 12ms/step - loss: 0.8847 - accuracy: 0.6898 - val_loss: 0.9549 - val_accuracy: 0.6711\n",
            "Epoch 7/10\n",
            "157/157 [==============================] - 2s 13ms/step - loss: 0.8029 - accuracy: 0.7161 - val_loss: 0.8893 - val_accuracy: 0.6967\n",
            "Epoch 8/10\n",
            "157/157 [==============================] - 2s 14ms/step - loss: 0.7354 - accuracy: 0.7420 - val_loss: 0.8613 - val_accuracy: 0.7042\n",
            "Epoch 9/10\n",
            "157/157 [==============================] - 2s 12ms/step - loss: 0.6773 - accuracy: 0.7601 - val_loss: 0.8455 - val_accuracy: 0.7083\n",
            "Epoch 10/10\n",
            "157/157 [==============================] - 2s 12ms/step - loss: 0.6202 - accuracy: 0.7782 - val_loss: 0.8865 - val_accuracy: 0.7020\n"
          ]
        }
      ],
      "source": [
        "hist = model.fit(X_train, \n",
        "                 y_train_one_hot,\n",
        "                 batch_size=256, \n",
        "                 epochs=10, \n",
        "                 validation_split=0.2)"
      ]
    },
    {
      "cell_type": "markdown",
      "metadata": {
        "id": "b03V9RDI0FNx"
      },
      "source": [
        "### **Evaluasi Model**"
      ]
    },
    {
      "cell_type": "code",
      "execution_count": 21,
      "metadata": {
        "colab": {
          "base_uri": "https://localhost:8080/"
        },
        "id": "ZaL3lHsr-F6U",
        "outputId": "2af98d5a-c599-4741-8d62-0802b89d60ab"
      },
      "outputs": [
        {
          "name": "stdout",
          "output_type": "stream",
          "text": [
            "313/313 [==============================] - 1s 3ms/step - loss: 0.9001 - accuracy: 0.6970\n",
            "Accuracy score: 0.6970000267028809\n"
          ]
        }
      ],
      "source": [
        "# Evaluasi model tehadap sampel uji\n",
        "accuracy = model.evaluate(X_test, y_test_one_hot)[1]\n",
        "\n",
        "print('Accuracy score:', accuracy)"
      ]
    },
    {
      "cell_type": "code",
      "execution_count": 22,
      "metadata": {
        "colab": {
          "base_uri": "https://localhost:8080/",
          "height": 299
        },
        "id": "vnoQ4AKb-F6X",
        "outputId": "77081cfb-f45b-4c03-c2f8-2c571d2d4e2b"
      },
      "outputs": [
        {
          "data": {
            "image/png": "[encoded data removed]",
            "text/plain": [
              "<Figure size 432x288 with 1 Axes>"
            ]
          },
          "metadata": {},
          "output_type": "display_data"
        }
      ],
      "source": [
        "# Memvisualisasikan akurasi dari hasil pelatihan\n",
        "plt.plot(hist.history['accuracy'])\n",
        "plt.plot(hist.history['val_accuracy'])\n",
        "plt.title('Model Accuracy')\n",
        "plt.ylabel('Accuracy')\n",
        "plt.xlabel('Epoch')\n",
        "plt.legend(['Train', 'Val'], loc='upper left')\n",
        "plt.show()"
      ]
    },
    {
      "cell_type": "code",
      "execution_count": 23,
      "metadata": {
        "colab": {
          "base_uri": "https://localhost:8080/",
          "height": 299
        },
        "id": "1AUQUEvr-F6c",
        "outputId": "68d75354-11cf-4caf-b3cb-7aa999592a25"
      },
      "outputs": [
        {
          "data": {
            "image/png": "[encoded data removed]",
            "text/plain": [
              "<Figure size 432x288 with 1 Axes>"
            ]
          },
          "metadata": {},
          "output_type": "display_data"
        }
      ],
      "source": [
        "# Memvisualisasikan kerugian (loss) dari hasil pelatihan\n",
        "plt.plot(hist.history['loss'])\n",
        "plt.plot(hist.history['val_loss'])\n",
        "plt.title('Model Loss')\n",
        "plt.ylabel('Loss')\n",
        "plt.xlabel('Epoch')\n",
        "plt.legend(['Train', 'Val'], loc='upper right')\n",
        "plt.show()"
      ]
    },
    {
      "cell_type": "markdown",
      "metadata": {
        "id": "II1PoHSg-F6f"
      },
      "source": [
        "### **Pengujian Model dengan Citra Unggahan**"
      ]
    },
    {
      "cell_type": "markdown",
      "metadata": {
        "id": "MbDfZhcP-F6g"
      },
      "source": [
        "**Unggah citra uji jika menggunakan Google Colab**"
      ]
    },
    {
      "cell_type": "code",
      "execution_count": 24,
      "metadata": {
        "colab": {
          "base_uri": "https://localhost:8080/",
          "height": 159
        },
        "id": "kOee576B-F6h",
        "outputId": "201cf8f5-111a-4973-ce7b-01b2ed3f85f1"
      },
      "outputs": [
        {
          "data": {
            "text/html": [
              "\n",
              "     <input type=\"file\" id=\"files-047aeced-c25a-43c4-9a52-d26a08f39ba1\" name=\"files[]\" multiple disabled\n",
              "        style=\"border:none\" />\n",
              "     <output id=\"result-047aeced-c25a-43c4-9a52-d26a08f39ba1\">\n",
              "      Upload widget is only available when the cell has been executed in the\n",
              "      current browser session. Please rerun this cell to enable.\n",
              "      </output>\n",
              "      <script>// Copyright 2017 Google LLC\n",
              "//\n",
              "// Licensed under the Apache License, Version 2.0 (the \"License\");\n",
              "// you may not use this file except in compliance with the License.\n",
              "// You may obtain a copy of the License at\n",
              "//\n",
              "//      http://www.apache.org/licenses/LICENSE-2.0\n",
              "//\n",
              "// Unless required by applicable law or agreed to in writing, software\n",
              "// distributed under the License is distributed on an \"AS IS\" BASIS,\n",
              "// WITHOUT WARRANTIES OR CONDITIONS OF ANY KIND, either express or implied.\n",
              "// See the License for the specific language governing permissions and\n",
              "// limitations under the License.\n",
              "\n",
              "/**\n",
              " * @fileoverview Helpers for google.colab Python module.\n",
              " */\n",
              "(function(scope) {\n",
              "function span(text, styleAttributes = {}) {\n",
              "  const element = document.createElement('span');\n",
              "  element.textContent = text;\n",
              "  for (const key of Object.keys(styleAttributes)) {\n",
              "    element.style[key] = styleAttributes[key];\n",
              "  }\n",
              "  return element;\n",
              "}\n",
              "\n",
              "// Max number of bytes which will be uploaded at a time.\n",
              "const MAX_PAYLOAD_SIZE = 100 * 1024;\n",
              "\n",
              "function _uploadFiles(inputId, outputId) {\n",
              "  const steps = uploadFilesStep(inputId, outputId);\n",
              "  const outputElement = document.getElementById(outputId);\n",
              "  // Cache steps on the outputElement to make it available for the next call\n",
              "  // to uploadFilesContinue from Python.\n",
              "  outputElement.steps = steps;\n",
              "\n",
              "  return _uploadFilesContinue(outputId);\n",
              "}\n",
              "\n",
              "// This is roughly an async generator (not supported in the browser yet),\n",
              "// where there are multiple asynchronous steps and the Python side is going\n",
              "// to poll for completion of each step.\n",
              "// This uses a Promise to block the python side on completion of each step,\n",
              "// then passes the result of the previous step as the input to the next step.\n",
              "function _uploadFilesContinue(outputId) {\n",
              "  const outputElement = document.getElementById(outputId);\n",
              "  const steps = outputElement.steps;\n",
              "\n",
              "  const next = steps.next(outputElement.lastPromiseValue);\n",
              "  return Promise.resolve(next.value.promise).then((value) => {\n",
              "    // Cache the last promise value to make it available to the next\n",
              "    // step of the generator.\n",
              "    outputElement.lastPromiseValue = value;\n",
              "    return next.value.response;\n",
              "  });\n",
              "}\n",
              "\n",
              "/**\n",
              " * Generator function which is called between each async step of the upload\n",
              " * process.\n",
              " * @param {string} inputId Element ID of the input file picker element.\n",
              " * @param {string} outputId Element ID of the output display.\n",
              " * @return {!Iterable<!Object>} Iterable of next steps.\n",
              " */\n",
              "function* uploadFilesStep(inputId, outputId) {\n",
              "  const inputElement = document.getElementById(inputId);\n",
              "  inputElement.disabled = false;\n",
              "\n",
              "  const outputElement = document.getElementById(outputId);\n",
              "  outputElement.innerHTML = '';\n",
              "\n",
              "  const pickedPromise = new Promise((resolve) => {\n",
              "    inputElement.addEventListener('change', (e) => {\n",
              "      resolve(e.target.files);\n",
              "    });\n",
              "  });\n",
              "\n",
              "  const cancel = document.createElement('button');\n",
              "  inputElement.parentElement.appendChild(cancel);\n",
              "  cancel.textContent = 'Cancel upload';\n",
              "  const cancelPromise = new Promise((resolve) => {\n",
              "    cancel.onclick = () => {\n",
              "      resolve(null);\n",
              "    };\n",
              "  });\n",
              "\n",
              "  // Wait for the user to pick the files.\n",
              "  const files = yield {\n",
              "    promise: Promise.race([pickedPromise, cancelPromise]),\n",
              "    response: {\n",
              "      action: 'starting',\n",
              "    }\n",
              "  };\n",
              "\n",
              "  cancel.remove();\n",
              "\n",
              "  // Disable the input element since further picks are not allowed.\n",
              "  inputElement.disabled = true;\n",
              "\n",
              "  if (!files) {\n",
              "    return {\n",
              "      response: {\n",
              "        action: 'complete',\n",
              "      }\n",
              "    };\n",
              "  }\n",
              "\n",
              "  for (const file of files) {\n",
              "    const li = document.createElement('li');\n",
              "    li.append(span(file.name, {fontWeight: 'bold'}));\n",
              "    li.append(span(\n",
              "        `(${file.type || 'n/a'}) - ${file.size} bytes, ` +\n",
              "        `last modified: ${\n",
              "            file.lastModifiedDate ? file.lastModifiedDate.toLocaleDateString() :\n",
              "                                    'n/a'} - `));\n",
              "    const percent = span('0% done');\n",
              "    li.appendChild(percent);\n",
              "\n",
              "    outputElement.appendChild(li);\n",
              "\n",
              "    const fileDataPromise = new Promise((resolve) => {\n",
              "      const reader = new FileReader();\n",
              "      reader.onload = (e) => {\n",
              "        resolve(e.target.result);\n",
              "      };\n",
              "      reader.readAsArrayBuffer(file);\n",
              "    });\n",
              "    // Wait for the data to be ready.\n",
              "    let fileData = yield {\n",
              "      promise: fileDataPromise,\n",
              "      response: {\n",
              "        action: 'continue',\n",
              "      }\n",
              "    };\n",
              "\n",
              "    // Use a chunked sending to avoid message size limits. See b/62115660.\n",
              "    let position = 0;\n",
              "    do {\n",
              "      const length = Math.min(fileData.byteLength - position, MAX_PAYLOAD_SIZE);\n",
              "      const chunk = new Uint8Array(fileData, position, length);\n",
              "      position += length;\n",
              "\n",
              "      const base64 = btoa(String.fromCharCode.apply(null, chunk));\n",
              "      yield {\n",
              "        response: {\n",
              "          action: 'append',\n",
              "          file: file.name,\n",
              "          data: base64,\n",
              "        },\n",
              "      };\n",
              "\n",
              "      let percentDone = fileData.byteLength === 0 ?\n",
              "          100 :\n",
              "          Math.round((position / fileData.byteLength) * 100);\n",
              "      percent.textContent = `${percentDone}% done`;\n",
              "\n",
              "    } while (position < fileData.byteLength);\n",
              "  }\n",
              "\n",
              "  // All done.\n",
              "  yield {\n",
              "    response: {\n",
              "      action: 'complete',\n",
              "    }\n",
              "  };\n",
              "}\n",
              "\n",
              "scope.google = scope.google || {};\n",
              "scope.google.colab = scope.google.colab || {};\n",
              "scope.google.colab._files = {\n",
              "  _uploadFiles,\n",
              "  _uploadFilesContinue,\n",
              "};\n",
              "})(self);\n",
              "</script> "
            ],
            "text/plain": [
              "<IPython.core.display.HTML object>"
            ]
          },
          "metadata": {},
          "output_type": "display_data"
        },
        {
          "name": "stdout",
          "output_type": "stream",
          "text": [
            "Saving airplane_0006.jpg to airplane_0006.jpg\n",
            "\n",
            "> Isi current working directory:\n",
            ".config\n",
            "airplane_0006.jpg\n",
            "sample_data\n"
          ]
        }
      ],
      "source": [
        "from google.colab import files\n",
        "\n",
        "uploaded = files.upload()\n",
        "uploaded_file_name = list(uploaded.keys())[0]\n",
        "\n",
        "print('\\n> Isi current working directory:')\n",
        "for file in os.listdir(os.getcwd()):\n",
        "    print(file)"
      ]
    },
    {
      "cell_type": "markdown",
      "metadata": {
        "id": "D7Gh35YwIB8X"
      },
      "source": [
        "**Uaggah citra uji jika menggunakan IDE lokal**"
      ]
    },
    {
      "cell_type": "code",
      "execution_count": 2,
      "metadata": {
        "colab": {
          "base_uri": "https://localhost:8080/",
          "height": 104
        },
        "id": "l_l5kzRoH4qO",
        "outputId": "d0487c2e-7ef2-44d4-f02d-29fb77f2e25a"
      },
      "outputs": [
        {
          "name": "stdout",
          "output_type": "stream",
          "text": [
            "\n",
            "> Isi \"cwd\":\n",
            "README.md\n",
            "airplane_0006.jpg\n",
            "185314098.ipynb\n",
            ".git\n",
            "support.py\n",
            "185314098.py\n",
            "base_code.ipynb\n"
          ]
        }
      ],
      "source": [
        "import shutil\n",
        "import tkinter as tk\n",
        "from tkinter import filedialog as fd\n",
        "\n",
        "def upload_file():\n",
        "    root = tk.Tk()\n",
        "    root.wm_withdraw()\n",
        "    curr_directory = os.getcwd()\n",
        "    source_path = fd.askopenfilename(initialdir=curr_directory, \n",
        "                                    title=\"Select Image\", \n",
        "                                    filetypes=[('Image Files', '*.jpg')])\n",
        "    root.destroy()  # Tutup root Tkinter dialog\n",
        "\n",
        "    uploaded_file_name = os.path.basename(source_path)\n",
        "    uploaded_path = os.path.join(curr_directory, uploaded_file_name)\n",
        "    shutil.copyfile(source_path, uploaded_path)\n",
        "\n",
        "    return uploaded_file_name\n",
        "\n",
        "uploaded_file_name = upload_file()\n",
        "\n",
        "# Tampilkan isi current working directory terbaru\n",
        "print('\\n> Isi \"cwd\":')\n",
        "for file in os.listdir(os.getcwd()):\n",
        "    print(file)"
      ]
    },
    {
      "cell_type": "markdown",
      "metadata": {
        "id": "pvC1zp-Anh_N"
      },
      "source": [
        "**Baca dan tampilkan citra uji unggahan**"
      ]
    },
    {
      "cell_type": "code",
      "execution_count": 26,
      "metadata": {
        "colab": {
          "base_uri": "https://localhost:8080/",
          "height": 213
        },
        "id": "rjoFJH5Ix6al",
        "outputId": "a01f6b0f-b662-4e71-e068-b76330613242"
      },
      "outputs": [
        {
          "name": "stdout",
          "output_type": "stream",
          "text": [
            "\n",
            "Nama file citra unggahan: \"airplane_0006.jpg\" \n",
            "\n"
          ]
        },
        {
          "data": {
            "image/png": "[encoded data removed]",
            "text/plain": [
              "<Figure size 432x288 with 1 Axes>"
            ]
          },
          "metadata": {},
          "output_type": "display_data"
        }
      ],
      "source": [
        "print(f'\\nNama file citra unggahan: \"{uploaded_file_name}\" \\n')\n",
        "# Membaca file unggahan\n",
        "new_image = plt.imread(uploaded_file_name)\n",
        "\n",
        "# Tampilkan citra unggahan secara visual\n",
        "img = plt.imshow(new_image)"
      ]
    },
    {
      "cell_type": "markdown",
      "metadata": {
        "id": "hs4aIH3d-F6r"
      },
      "source": [
        "**Transformasi citra uji unggahan**"
      ]
    },
    {
      "cell_type": "code",
      "execution_count": 27,
      "metadata": {
        "colab": {
          "base_uri": "https://localhost:8080/",
          "height": 266
        },
        "id": "4mTmLsKD-F6x",
        "outputId": "3e4af3fc-1a8b-49bd-9aea-aeb540fa8c03"
      },
      "outputs": [
        {
          "data": {
            "image/png": "[encoded data removed]",
            "text/plain": [
              "<Figure size 432x288 with 1 Axes>"
            ]
          },
          "metadata": {},
          "output_type": "display_data"
        }
      ],
      "source": [
        "from skimage.transform import resize\n",
        "# Ubah ukuran citra sehingga sesuai dengan input layer pada model\n",
        "resized_image = resize(new_image, (32, 32, 3))\n",
        "\n",
        "img = plt.imshow(resized_image)"
      ]
    },
    {
      "cell_type": "markdown",
      "metadata": {
        "id": "2JZHMtje-F6z"
      },
      "source": [
        "**Buat prediksi**"
      ]
    },
    {
      "cell_type": "code",
      "execution_count": 28,
      "metadata": {
        "colab": {
          "base_uri": "https://localhost:8080/"
        },
        "id": "zriNo-ZJ-F62",
        "outputId": "f5dabab6-bd4b-4a7c-9cee-674eac7c08e2"
      },
      "outputs": [
        {
          "name": "stdout",
          "output_type": "stream",
          "text": [
            "1/1 [==============================] - 0s 129ms/step\n"
          ]
        }
      ],
      "source": [
        "predictions = model.predict(np.array([resized_image]))"
      ]
    },
    {
      "cell_type": "markdown",
      "metadata": {
        "id": "LcJZhR7L-F65"
      },
      "source": [
        "**Hasil prediksi**"
      ]
    },
    {
      "cell_type": "code",
      "execution_count": 29,
      "metadata": {
        "colab": {
          "base_uri": "https://localhost:8080/"
        },
        "id": "FS4QSG1koPEl",
        "outputId": "345cd174-e2bc-440d-fc87-e52ed0c5fe6a"
      },
      "outputs": [
        {
          "data": {
            "text/plain": [
              "array([[4.4766262e-01, 4.6912261e-04, 4.9054179e-01, 1.4339016e-02,\n",
              "        2.4130177e-02, 2.8569079e-03, 6.8374993e-03, 9.3571009e-04,\n",
              "        1.0518496e-02, 1.7086356e-03]], dtype=float32)"
            ]
          },
          "execution_count": 29,
          "metadata": {},
          "output_type": "execute_result"
        }
      ],
      "source": [
        "predictions"
      ]
    },
    {
      "cell_type": "code",
      "execution_count": 30,
      "metadata": {
        "colab": {
          "base_uri": "https://localhost:8080/"
        },
        "id": "SPFRkpY9-F68",
        "outputId": "1d3705c1-e1d7-4ab0-f7ec-4746313db79b"
      },
      "outputs": [
        {
          "name": "stdout",
          "output_type": "stream",
          "text": [
            "[2, 0, 4, 3, 8, 6, 5, 9, 7, 1]\n"
          ]
        }
      ],
      "source": [
        "# Urutkan probabilitas hasil prediksi yang berkesesuaian terhadap kelas\n",
        "list_index = [0,1,2,3,4,5,6,7,8,9]\n",
        "x = predictions\n",
        "\n",
        "for i in range(10):\n",
        "  for j in range(10):\n",
        "    if x[0][list_index[i]] > x[0][list_index[j]]:\n",
        "      temp = list_index[i]\n",
        "      list_index[i] = list_index[j]\n",
        "      list_index[j] = temp\n",
        "\n",
        "print(list_index)"
      ]
    },
    {
      "cell_type": "code",
      "execution_count": 31,
      "metadata": {
        "colab": {
          "base_uri": "https://localhost:8080/"
        },
        "id": "bmpK3n2N-F7A",
        "outputId": "6d76a8b2-e229-45b6-d31e-b6db4e6ba130"
      },
      "outputs": [
        {
          "name": "stdout",
          "output_type": "stream",
          "text": [
            "bird       : 49.05 %\n",
            "airplane   : 44.77 %\n",
            "deer       : 2.41 %\n",
            "cat        : 1.43 %\n",
            "ship       : 1.05 %\n"
          ]
        }
      ],
      "source": [
        "# Tampilkan 5 kelas hasil prediksi dengan probabilitas tertinggi\n",
        "for i in range(0, 5):\n",
        "  print(label_classes[list_index[i]].ljust(10),':', \n",
        "        round(predictions[0][list_index[i]] * 100, 2),'%')"
      ]
    },
    {
      "cell_type": "markdown",
      "metadata": {
        "id": "fhTPuO-j3jcx"
      },
      "source": [
        "### **Pengujian Model dengan Citra pada Sampel Uji Cifar10**"
      ]
    },
    {
      "cell_type": "markdown",
      "metadata": {
        "id": "-AYOd0QiaN3q"
      },
      "source": [
        "**1. Pengujian data tunggal**"
      ]
    },
    {
      "cell_type": "code",
      "execution_count": 32,
      "metadata": {
        "colab": {
          "base_uri": "https://localhost:8080/",
          "height": 335
        },
        "id": "MkBXHcL13jBQ",
        "outputId": "07daf045-be99-416e-dffa-d3fe0379aef1"
      },
      "outputs": [
        {
          "name": "stdout",
          "output_type": "stream",
          "text": [
            "\n",
            "The random index of the test image is: 4075\n",
            "The actual class of the test image is: bird \n",
            "\n"
          ]
        },
        {
          "data": {
            "image/png": "[encoded data removed]",
            "text/plain": [
              "<Figure size 432x288 with 1 Axes>"
            ]
          },
          "metadata": {},
          "output_type": "display_data"
        }
      ],
      "source": [
        "import random\n",
        "# Ambil citra uji secara acak\n",
        "rand_test_index = random.randint(0, len(X_test))\n",
        "rand_test_image = X_test[rand_test_index]\n",
        "rand_test_class = label_classes[y_test[rand_test_index][0]]\n",
        "\n",
        "print('\\nThe random index of the test image is:', rand_test_index)\n",
        "print('The actual class of the test image is:', rand_test_class, '\\n')\n",
        "img = plt.imshow(rand_test_image)"
      ]
    },
    {
      "cell_type": "markdown",
      "metadata": {
        "id": "rl04SU-5ZlRM"
      },
      "source": [
        "Buat prediksi"
      ]
    },
    {
      "cell_type": "code",
      "execution_count": 33,
      "metadata": {
        "colab": {
          "base_uri": "https://localhost:8080/"
        },
        "id": "MjbU_CqZ8ejw",
        "outputId": "d1ca9d58-f09f-420c-eb3b-e63bb6a6c1d9"
      },
      "outputs": [
        {
          "name": "stdout",
          "output_type": "stream",
          "text": [
            "1/1 [==============================] - 0s 28ms/step\n"
          ]
        }
      ],
      "source": [
        "rand_test_image = np.reshape(rand_test_image, (1, 32, 32, 3))\n",
        "\n",
        "predictions = model.predict(rand_test_image)"
      ]
    },
    {
      "cell_type": "markdown",
      "metadata": {
        "id": "qn9D3xYbaCZ9"
      },
      "source": [
        "Hasil prediksi"
      ]
    },
    {
      "cell_type": "code",
      "execution_count": 34,
      "metadata": {
        "colab": {
          "base_uri": "https://localhost:8080/"
        },
        "id": "qqR222u5aE-K",
        "outputId": "73095a12-c72c-4bec-aada-dbee36cc2e19"
      },
      "outputs": [
        {
          "data": {
            "text/plain": [
              "array([[4.7992970e-04, 8.0922864e-06, 9.2305350e-01, 1.8406160e-02,\n",
              "        3.1905700e-02, 8.7437797e-03, 1.6124243e-02, 1.1282228e-03,\n",
              "        7.2236107e-05, 7.8148099e-05]], dtype=float32)"
            ]
          },
          "execution_count": 34,
          "metadata": {},
          "output_type": "execute_result"
        }
      ],
      "source": [
        "predictions"
      ]
    },
    {
      "cell_type": "code",
      "execution_count": 35,
      "metadata": {
        "colab": {
          "base_uri": "https://localhost:8080/"
        },
        "id": "XTEzRwc180Km",
        "outputId": "5f1196aa-521f-4183-fcc5-c09713fea50a"
      },
      "outputs": [
        {
          "name": "stdout",
          "output_type": "stream",
          "text": [
            "[2, 4, 3, 6, 5, 7, 0, 9, 8, 1]\n"
          ]
        }
      ],
      "source": [
        "# Urutkan probabilitas hasil prediksi dari terbesar ke terkecil\n",
        "list_index = [0,1,2,3,4,5,6,7,8,9]\n",
        "x = predictions\n",
        "\n",
        "for i in range(10):\n",
        "  for j in range(10):\n",
        "    if x[0][list_index[i]] > x[0][list_index[j]]:\n",
        "      temp = list_index[i]\n",
        "      list_index[i] = list_index[j]\n",
        "      list_index[j] = temp\n",
        "\n",
        "print(list_index)"
      ]
    },
    {
      "cell_type": "code",
      "execution_count": 36,
      "metadata": {
        "colab": {
          "base_uri": "https://localhost:8080/"
        },
        "id": "_Vo8tP8x83Ge",
        "outputId": "89f6dddb-d307-4e6c-a596-1ad1bf748201"
      },
      "outputs": [
        {
          "name": "stdout",
          "output_type": "stream",
          "text": [
            "bird       : 92.31 %\n",
            "deer       : 3.19 %\n",
            "cat        : 1.84 %\n",
            "frog       : 1.61 %\n",
            "dog        : 0.87 %\n"
          ]
        }
      ],
      "source": [
        "# Tampilkan 5 kelas hasil prediksi dengan probabilitas tertinggi\n",
        "for i in range(0, 5):\n",
        "  print(label_classes[list_index[i]].ljust(10),':', \n",
        "        round(predictions[0][list_index[i]] * 100, 2),'%')"
      ]
    },
    {
      "cell_type": "markdown",
      "metadata": {
        "id": "7QPQoJH9dr1E"
      },
      "source": [
        "**2. Pengujian seluruh data uji**"
      ]
    },
    {
      "cell_type": "markdown",
      "metadata": {
        "id": "vhIMqrhCe9v9"
      },
      "source": [
        "Buat prediksi"
      ]
    },
    {
      "cell_type": "code",
      "execution_count": 37,
      "metadata": {
        "colab": {
          "base_uri": "https://localhost:8080/"
        },
        "id": "xZwc-KLKdrKF",
        "outputId": "dc9b25f6-8fa0-4f42-aacd-f92d15dcc97c"
      },
      "outputs": [
        {
          "name": "stdout",
          "output_type": "stream",
          "text": [
            "313/313 [==============================] - 1s 2ms/step\n"
          ]
        }
      ],
      "source": [
        "predictions = model.predict(X_test)"
      ]
    },
    {
      "cell_type": "markdown",
      "metadata": {
        "id": "bwnd8uqoefBS"
      },
      "source": [
        "Hasil Prediksi"
      ]
    },
    {
      "cell_type": "code",
      "execution_count": 38,
      "metadata": {
        "id": "3Sw0qAcCfvBd"
      },
      "outputs": [],
      "source": [
        "# Untuk setiap satu hasil prediksi, ambil label prediksi pada indeks\n",
        "# berkesesuaian yang memiliki probabilitas tertinggi\n",
        "y_predict = []\n",
        "for probabilities in predictions:\n",
        "  y_predict.append(np.argmax(probabilities))"
      ]
    },
    {
      "cell_type": "code",
      "execution_count": 39,
      "metadata": {
        "colab": {
          "base_uri": "https://localhost:8080/"
        },
        "id": "kyoHpnhJeZw4",
        "outputId": "d1cae6ec-a777-4c84-a03f-3c0bbbe2626b"
      },
      "outputs": [
        {
          "name": "stdout",
          "output_type": "stream",
          "text": [
            "Number of test images: 10000\n",
            "\n",
            "Confusion matrix:\n",
            " [[729  21  62  20  28   4  20  11  77  28]\n",
            " [ 11 868  11   6   4   3  21   3  17  56]\n",
            " [ 53   8 645  53  93  34  74  23  11   6]\n",
            " [ 13  13 104 457 106 120 126  33  10  18]\n",
            " [ 19   2 100  62 683  18  57  47  10   2]\n",
            " [ 11   4  93 177  85 511  53  48   7  11]\n",
            " [  2   5  54  33  47   8 830   7   6   8]\n",
            " [ 14   3  47  37 104  43  15 723   1  13]\n",
            " [ 63  52  15  15  11   9  10   2 803  20]\n",
            " [ 34 128  13  12  12  11  16  14  39 721]]\n",
            "\n",
            "Classification report:\n",
            "               precision    recall  f1-score   support\n",
            "\n",
            "           0       0.77      0.73      0.75      1000\n",
            "           1       0.79      0.87      0.83      1000\n",
            "           2       0.56      0.65      0.60      1000\n",
            "           3       0.52      0.46      0.49      1000\n",
            "           4       0.58      0.68      0.63      1000\n",
            "           5       0.67      0.51      0.58      1000\n",
            "           6       0.68      0.83      0.75      1000\n",
            "           7       0.79      0.72      0.76      1000\n",
            "           8       0.82      0.80      0.81      1000\n",
            "           9       0.82      0.72      0.77      1000\n",
            "\n",
            "    accuracy                           0.70     10000\n",
            "   macro avg       0.70      0.70      0.70     10000\n",
            "weighted avg       0.70      0.70      0.70     10000\n",
            "\n"
          ]
        }
      ],
      "source": [
        "from sklearn import metrics as mr\n",
        "\n",
        "print('Number of test images:', len(X_test))\n",
        "print('\\nConfusion matrix:\\n', mr.confusion_matrix(y_test, y_predict))\n",
        "print('\\nClassification report:\\n',\n",
        "      mr.classification_report(y_test, y_predict))"
      ]
    },
    {
      "cell_type": "markdown",
      "metadata": {
        "id": "9GM5wiAP-F7B"
      },
      "source": [
        "***"
      ]
    },
    {
      "cell_type": "markdown",
      "metadata": {
        "id": "35nrmBNbqMDX"
      },
      "source": [
        "**Simpan Model**"
      ]
    },
    {
      "cell_type": "code",
      "execution_count": 40,
      "metadata": {
        "colab": {
          "base_uri": "https://localhost:8080/"
        },
        "id": "zcVWF8Sw-F7D",
        "outputId": "1f0a8898-59e3-4ec1-96b7-a0eefb2f55c3"
      },
      "outputs": [
        {
          "name": "stdout",
          "output_type": "stream",
          "text": [
            "> Isi \"cwd/model\":\n",
            "185314098_cnn_model.h5\n"
          ]
        }
      ],
      "source": [
        "model.save('model/185314098_cnn_model.h5')\n",
        "\n",
        "print('> Isi \"cwd/model\":')\n",
        "for file in os.listdir(os.getcwd()+\"/model\"):\n",
        "    print(file)"
      ]
    }
  ],
  "metadata": {
    "accelerator": "GPU",
    "colab": {
      "provenance": []
    },
    "gpuClass": "standard",
    "kernelspec": {
      "display_name": "dl-env",
      "language": "python",
      "name": "python3"
    },
    "language_info": {
      "codemirror_mode": {
        "name": "ipython",
        "version": 3
      },
      "file_extension": ".py",
      "mimetype": "text/x-python",
      "name": "python",
      "nbconvert_exporter": "python",
      "pygments_lexer": "ipython3",
      "version": "3.7.13"
    },
    "vscode": {
      "interpreter": {
        "hash": "569f9bf8ba764d31ef549e16934d9f64ead24cc28a7443d159eb33bd2698cb95"
      }
    }
  },
  "nbformat": 4,
  "nbformat_minor": 0
}
