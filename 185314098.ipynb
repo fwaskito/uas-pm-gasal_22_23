{
  "cells": [
    {
      "cell_type": "markdown",
      "metadata": {
        "id": "-s4VwWwA-F3H"
      },
      "source": [
        "- **Project**: UAS Pembelajaran Mesin\n",
        "- **Created**: Sun, 18th Dec 2022 1:15:24 PM\n",
        "- **Author**: F. Waskito\n",
        "- **Reference**: Randerson. (July 12, 2019). *Classifiy Images Using Convolutional Neural Network & Python*. Medium.com. [link](https://randerson112358.medium.com/classify-images-using-convolutional-neural-networks-python-a89cecc8c679)"
      ]
    },
    {
      "cell_type": "markdown",
      "source": [
        "***"
      ],
      "metadata": {
        "id": "e69Dro5aGQaP"
      }
    },
    {
      "cell_type": "markdown",
      "metadata": {
        "id": "-RIahUvx-F3Q"
      },
      "source": [
        "**Impor pustaka yang dibutuhkan**"
      ]
    },
    {
      "cell_type": "code",
      "execution_count": null,
      "metadata": {
        "id": "4LZXoIwP-F3V"
      },
      "outputs": [],
      "source": [
        "# Impor pustaka yang dibutuhkan\n",
        "import tensorflow as tf\n",
        "from tensorflow import keras\n",
        "from keras.models import Sequential\n",
        "from keras.layers import Dense, Flatten, Conv2D, MaxPooling2D, Dropout\n",
        "from keras import layers\n",
        "from keras.utils import to_categorical\n",
        "import numpy as np\n",
        "import matplotlib.pyplot as plt\n",
        "import os\n",
        "\n",
        "plt.style.use('fivethirtyeight')"
      ]
    },
    {
      "cell_type": "markdown",
      "metadata": {
        "id": "658xaxOB-F3s"
      },
      "source": [
        "***Outset***"
      ]
    },
    {
      "cell_type": "code",
      "execution_count": null,
      "metadata": {
        "id": "7w5cP-gy-F34"
      },
      "outputs": [],
      "source": [
        "# Tensorflow flag (Log all messages except INFO and WARNING)\n",
        "os.environ['TF_CPP_MIN_LOG_LEVEL'] = '2'"
      ]
    },
    {
      "cell_type": "code",
      "execution_count": null,
      "metadata": {
        "colab": {
          "base_uri": "https://localhost:8080/",
          "height": 35
        },
        "id": "6Fsb7boy-F3x",
        "outputId": "fd84fb59-9921-46b8-b8a9-c453a2e3a445"
      },
      "outputs": [
        {
          "output_type": "execute_result",
          "data": {
            "text/plain": [
              "'/content'"
            ],
            "application/vnd.google.colaboratory.intrinsic+json": {
              "type": "string"
            }
          },
          "metadata": {},
          "execution_count": 16
        }
      ],
      "source": [
        "# Current working directory\n",
        "os.getcwd()"
      ]
    },
    {
      "cell_type": "markdown",
      "metadata": {
        "id": "NOTzIy8m-F3-"
      },
      "source": [
        "***Load data***"
      ]
    },
    {
      "cell_type": "code",
      "execution_count": null,
      "metadata": {
        "id": "HxVU_XZd-F4J"
      },
      "outputs": [],
      "source": [
        "from keras.datasets import cifar10\n",
        "# Dataset cifar10 \n",
        "(X_train, y_train), (X_test, y_test) = cifar10.load_data()"
      ]
    },
    {
      "cell_type": "markdown",
      "metadata": {
        "id": "bD7O4jYc-F5L"
      },
      "source": [
        "### **Analisis Data**"
      ]
    },
    {
      "cell_type": "markdown",
      "metadata": {
        "id": "e-pkt7Mo-F5Q"
      },
      "source": [
        "**Menampilkan tipe data dari sampel latih dan uji**"
      ]
    },
    {
      "cell_type": "code",
      "execution_count": null,
      "metadata": {
        "colab": {
          "base_uri": "https://localhost:8080/"
        },
        "id": "NkWuboEd-F5T",
        "outputId": "cdcd6d55-7166-4a76-d55d-0e0b26857a21"
      },
      "outputs": [
        {
          "output_type": "stream",
          "name": "stdout",
          "text": [
            "X_train shape: <class 'numpy.ndarray'>\n",
            "y_train shape: <class 'numpy.ndarray'>\n",
            "X_test shape: <class 'numpy.ndarray'>\n",
            "y_test shape: <class 'numpy.ndarray'>\n"
          ]
        }
      ],
      "source": [
        "print('X_train shape:', type(X_train))\n",
        "print('y_train shape:', type(y_train))\n",
        "print('X_test shape:', type(X_test))\n",
        "print('y_test shape:', type(y_test))"
      ]
    },
    {
      "cell_type": "markdown",
      "metadata": {
        "id": "84RRG8LO-F5a"
      },
      "source": [
        "**Menampilkan dimensi dari sampel latih dan uji**"
      ]
    },
    {
      "cell_type": "code",
      "execution_count": null,
      "metadata": {
        "colab": {
          "base_uri": "https://localhost:8080/"
        },
        "id": "N16c2ubx-F5c",
        "outputId": "c76d38fa-e083-425d-c746-424648c39abb"
      },
      "outputs": [
        {
          "output_type": "stream",
          "name": "stdout",
          "text": [
            "X_train shape: (50000, 32, 32, 3)\n",
            "y_train shape: (50000, 1)\n",
            "X_test shape: (10000, 32, 32, 3)\n",
            "y_test shape: (10000, 1)\n"
          ]
        }
      ],
      "source": [
        "print('X_train shape:', X_train.shape)\n",
        "print('y_train shape:', y_train.shape)\n",
        "print('X_test shape:', X_test.shape)\n",
        "print('y_test shape:', y_test.shape)"
      ]
    },
    {
      "cell_type": "markdown",
      "metadata": {
        "id": "4Klkmux5-F5e"
      },
      "source": [
        "**Menelusuri salah satu citra**"
      ]
    },
    {
      "cell_type": "code",
      "execution_count": null,
      "metadata": {
        "colab": {
          "base_uri": "https://localhost:8080/"
        },
        "id": "3meSJBd3-F5g",
        "outputId": "a76e02c4-3e8a-4783-b4e7-f6be5276a777"
      },
      "outputs": [
        {
          "output_type": "execute_result",
          "data": {
            "text/plain": [
              "array([[[ 17,   3,   2],\n",
              "        [ 17,   3,   2],\n",
              "        [ 17,   2,   1],\n",
              "        ...,\n",
              "        [ 23,  13,  11],\n",
              "        [ 22,  12,  10],\n",
              "        [ 19,   9,   7]],\n",
              "\n",
              "       [[ 18,   4,   3],\n",
              "        [ 18,   4,   3],\n",
              "        [ 18,   4,   3],\n",
              "        ...,\n",
              "        [ 24,  14,  12],\n",
              "        [ 23,  13,  11],\n",
              "        [ 22,  12,  10]],\n",
              "\n",
              "       [[ 18,   4,   3],\n",
              "        [ 18,   4,   3],\n",
              "        [ 19,   5,   4],\n",
              "        ...,\n",
              "        [ 24,  14,  12],\n",
              "        [ 23,  13,  11],\n",
              "        [ 23,  13,  11]],\n",
              "\n",
              "       ...,\n",
              "\n",
              "       [[217, 214, 223],\n",
              "        [226, 219, 227],\n",
              "        [210, 201, 213],\n",
              "        ...,\n",
              "        [ 33,  24,  17],\n",
              "        [ 32,  23,  16],\n",
              "        [ 33,  24,  17]],\n",
              "\n",
              "       [[219, 215, 230],\n",
              "        [222, 215, 229],\n",
              "        [214, 208, 225],\n",
              "        ...,\n",
              "        [ 35,  26,  19],\n",
              "        [ 34,  25,  18],\n",
              "        [ 33,  24,  17]],\n",
              "\n",
              "       [[210, 208, 223],\n",
              "        [221, 216, 229],\n",
              "        [215, 212, 227],\n",
              "        ...,\n",
              "        [ 36,  27,  20],\n",
              "        [ 34,  25,  18],\n",
              "        [ 32,  23,  16]]], dtype=uint8)"
            ]
          },
          "metadata": {},
          "execution_count": 20
        }
      ],
      "source": [
        "index = 13\n",
        "X_train[index]  # citra urutan ke-5 (indeks ke-4) pada sampel latih"
      ]
    },
    {
      "cell_type": "code",
      "execution_count": null,
      "metadata": {
        "colab": {
          "base_uri": "https://localhost:8080/",
          "height": 284
        },
        "id": "9oSRK4ld-F5h",
        "outputId": "6c592899-8ac0-4702-89c9-9a07cc3b27fa"
      },
      "outputs": [
        {
          "output_type": "display_data",
          "data": {
            "text/plain": [
              "<Figure size 432x288 with 1 Axes>"
            ],
            "image/png": "[encoded data removed]"
          },
          "metadata": {}
        }
      ],
      "source": [
        "# Menampilkan citra secara visual\n",
        "img = plt.imshow(X_train[index])"
      ]
    },
    {
      "cell_type": "code",
      "execution_count": null,
      "metadata": {
        "colab": {
          "base_uri": "https://localhost:8080/"
        },
        "id": "7lBunuj9-F5j",
        "outputId": "e03f21f0-ead5-4cea-f348-2cc8e37b35f9"
      },
      "outputs": [
        {
          "output_type": "stream",
          "name": "stdout",
          "text": [
            "The image label is:  [2]\n"
          ]
        }
      ],
      "source": [
        "# Mengetahui default label (bertipe kategorik-numerik) dari citra\n",
        "print('The image label is: ', y_train[index])"
      ]
    },
    {
      "cell_type": "code",
      "execution_count": null,
      "metadata": {
        "colab": {
          "base_uri": "https://localhost:8080/"
        },
        "id": "6LmBimg1-F5p",
        "outputId": "87307cc1-b90a-4bf8-be1a-86a989811524"
      },
      "outputs": [
        {
          "output_type": "stream",
          "name": "stdout",
          "text": [
            "Number  class\n",
            "-------------------------\n",
            "0       airplane\n",
            "1       automobile\n",
            "2       bird \n",
            "3       cat  \n",
            "4       deer \n",
            "5       dog  \n",
            "6       frog \n",
            "7       horse\n",
            "8       ship \n",
            "9       truck\n"
          ]
        }
      ],
      "source": [
        "# Buat representasi label (kategorik-string)\n",
        "label_classes = ['airplane', 'automobile', 'bird', 'cat', 'deer', \n",
        "                'dog', 'frog', 'horse', 'ship', 'truck']\n",
        "\n",
        "print('Number ', 'class')\n",
        "print('-------------------------')\n",
        "for i in range(len(label_classes)):\n",
        "    print(str(i).ljust(7), str(label_classes[i]).ljust(5))"
      ]
    },
    {
      "cell_type": "code",
      "execution_count": null,
      "metadata": {
        "colab": {
          "base_uri": "https://localhost:8080/"
        },
        "id": "i-Qj8Fsf-F5s",
        "outputId": "34db854c-7a2f-48ef-82a8-c0fcb4ca67f5"
      },
      "outputs": [
        {
          "output_type": "stream",
          "name": "stdout",
          "text": [
            "The image class is:  bird\n"
          ]
        }
      ],
      "source": [
        "# Tampilkan label dari citra sebelumnya\n",
        "print('The image class is: ', label_classes[y_train[index][0]])"
      ]
    },
    {
      "cell_type": "markdown",
      "metadata": {
        "id": "oqzPEXvb-F5u"
      },
      "source": [
        "### **Praprosess**"
      ]
    },
    {
      "cell_type": "markdown",
      "metadata": {
        "id": "1-qzQ7iA-F5w"
      },
      "source": [
        "***Label encoding* (dengan *one-hot encoding*)**"
      ]
    },
    {
      "cell_type": "code",
      "execution_count": null,
      "metadata": {
        "id": "vxNtHcwk-F5x"
      },
      "outputs": [],
      "source": [
        "y_train_one_hot = to_categorical(y_train)\n",
        "y_test_one_hot = to_categorical(y_test)"
      ]
    },
    {
      "cell_type": "code",
      "execution_count": null,
      "metadata": {
        "colab": {
          "base_uri": "https://localhost:8080/"
        },
        "id": "q2Jggf1j-F5y",
        "outputId": "e5f6f068-4369-48f5-a1b6-75916f39ce57"
      },
      "outputs": [
        {
          "output_type": "stream",
          "name": "stdout",
          "text": [
            "[[0. 0. 0. ... 0. 0. 0.]\n",
            " [0. 0. 0. ... 0. 0. 1.]\n",
            " [0. 0. 0. ... 0. 0. 1.]\n",
            " ...\n",
            " [0. 0. 0. ... 0. 0. 1.]\n",
            " [0. 1. 0. ... 0. 0. 0.]\n",
            " [0. 1. 0. ... 0. 0. 0.]]\n"
          ]
        }
      ],
      "source": [
        "# Hasil encoding pada label sampel latih\n",
        "print(y_train_one_hot)"
      ]
    },
    {
      "cell_type": "code",
      "execution_count": null,
      "metadata": {
        "colab": {
          "base_uri": "https://localhost:8080/"
        },
        "id": "hoPwyBba-F5z",
        "outputId": "a1333c5b-6f06-46ca-caae-52cca6e79dfa"
      },
      "outputs": [
        {
          "output_type": "stream",
          "name": "stdout",
          "text": [
            "[[0. 0. 0. ... 0. 0. 0.]\n",
            " [0. 0. 0. ... 0. 1. 0.]\n",
            " [0. 0. 0. ... 0. 1. 0.]\n",
            " ...\n",
            " [0. 0. 0. ... 0. 0. 0.]\n",
            " [0. 1. 0. ... 0. 0. 0.]\n",
            " [0. 0. 0. ... 1. 0. 0.]]\n"
          ]
        }
      ],
      "source": [
        "# Hasil encoding pada label sampel uji\n",
        "print(y_test_one_hot)"
      ]
    },
    {
      "cell_type": "code",
      "execution_count": null,
      "metadata": {
        "colab": {
          "base_uri": "https://localhost:8080/"
        },
        "id": "PdziM0tl-F55",
        "outputId": "6d8aa8d9-a5ad-4af0-84c4-d2f9e74f28d0"
      },
      "outputs": [
        {
          "output_type": "stream",
          "name": "stdout",
          "text": [
            "The one-hot label is:  [0. 0. 0. 0. 0. 0. 1. 0. 0. 0.]\n"
          ]
        }
      ],
      "source": [
        "# Hasil encoding dari label citra urutan pertama pada sampel latih\n",
        "print('The one-hot label is: ', y_train_one_hot[0])"
      ]
    },
    {
      "cell_type": "markdown",
      "metadata": {
        "id": "YhWFynJp-F56"
      },
      "source": [
        "**Normalisasi Citra**"
      ]
    },
    {
      "cell_type": "code",
      "execution_count": null,
      "metadata": {
        "id": "bxlELA6--F57",
        "colab": {
          "base_uri": "https://localhost:8080/"
        },
        "outputId": "675b830e-1b5e-4877-f1c1-20378a08a2ac"
      },
      "outputs": [
        {
          "output_type": "execute_result",
          "data": {
            "text/plain": [
              "array([[[[0.23137255, 0.24313725, 0.24705882],\n",
              "         [0.16862745, 0.18039216, 0.17647059],\n",
              "         [0.19607843, 0.18823529, 0.16862745],\n",
              "         ...,\n",
              "         [0.61960784, 0.51764706, 0.42352941],\n",
              "         [0.59607843, 0.49019608, 0.4       ],\n",
              "         [0.58039216, 0.48627451, 0.40392157]],\n",
              "\n",
              "        [[0.0627451 , 0.07843137, 0.07843137],\n",
              "         [0.        , 0.        , 0.        ],\n",
              "         [0.07058824, 0.03137255, 0.        ],\n",
              "         ...,\n",
              "         [0.48235294, 0.34509804, 0.21568627],\n",
              "         [0.46666667, 0.3254902 , 0.19607843],\n",
              "         [0.47843137, 0.34117647, 0.22352941]],\n",
              "\n",
              "        [[0.09803922, 0.09411765, 0.08235294],\n",
              "         [0.0627451 , 0.02745098, 0.        ],\n",
              "         [0.19215686, 0.10588235, 0.03137255],\n",
              "         ...,\n",
              "         [0.4627451 , 0.32941176, 0.19607843],\n",
              "         [0.47058824, 0.32941176, 0.19607843],\n",
              "         [0.42745098, 0.28627451, 0.16470588]],\n",
              "\n",
              "        ...,\n",
              "\n",
              "        [[0.81568627, 0.66666667, 0.37647059],\n",
              "         [0.78823529, 0.6       , 0.13333333],\n",
              "         [0.77647059, 0.63137255, 0.10196078],\n",
              "         ...,\n",
              "         [0.62745098, 0.52156863, 0.2745098 ],\n",
              "         [0.21960784, 0.12156863, 0.02745098],\n",
              "         [0.20784314, 0.13333333, 0.07843137]],\n",
              "\n",
              "        [[0.70588235, 0.54509804, 0.37647059],\n",
              "         [0.67843137, 0.48235294, 0.16470588],\n",
              "         [0.72941176, 0.56470588, 0.11764706],\n",
              "         ...,\n",
              "         [0.72156863, 0.58039216, 0.36862745],\n",
              "         [0.38039216, 0.24313725, 0.13333333],\n",
              "         [0.3254902 , 0.20784314, 0.13333333]],\n",
              "\n",
              "        [[0.69411765, 0.56470588, 0.45490196],\n",
              "         [0.65882353, 0.50588235, 0.36862745],\n",
              "         [0.70196078, 0.55686275, 0.34117647],\n",
              "         ...,\n",
              "         [0.84705882, 0.72156863, 0.54901961],\n",
              "         [0.59215686, 0.4627451 , 0.32941176],\n",
              "         [0.48235294, 0.36078431, 0.28235294]]],\n",
              "\n",
              "\n",
              "       [[[0.60392157, 0.69411765, 0.73333333],\n",
              "         [0.49411765, 0.5372549 , 0.53333333],\n",
              "         [0.41176471, 0.40784314, 0.37254902],\n",
              "         ...,\n",
              "         [0.35686275, 0.37254902, 0.27843137],\n",
              "         [0.34117647, 0.35294118, 0.27843137],\n",
              "         [0.30980392, 0.31764706, 0.2745098 ]],\n",
              "\n",
              "        [[0.54901961, 0.62745098, 0.6627451 ],\n",
              "         [0.56862745, 0.6       , 0.60392157],\n",
              "         [0.49019608, 0.49019608, 0.4627451 ],\n",
              "         ...,\n",
              "         [0.37647059, 0.38823529, 0.30588235],\n",
              "         [0.30196078, 0.31372549, 0.24313725],\n",
              "         [0.27843137, 0.28627451, 0.23921569]],\n",
              "\n",
              "        [[0.54901961, 0.60784314, 0.64313725],\n",
              "         [0.54509804, 0.57254902, 0.58431373],\n",
              "         [0.45098039, 0.45098039, 0.43921569],\n",
              "         ...,\n",
              "         [0.30980392, 0.32156863, 0.25098039],\n",
              "         [0.26666667, 0.2745098 , 0.21568627],\n",
              "         [0.2627451 , 0.27058824, 0.21568627]],\n",
              "\n",
              "        ...,\n",
              "\n",
              "        [[0.68627451, 0.65490196, 0.65098039],\n",
              "         [0.61176471, 0.60392157, 0.62745098],\n",
              "         [0.60392157, 0.62745098, 0.66666667],\n",
              "         ...,\n",
              "         [0.16470588, 0.13333333, 0.14117647],\n",
              "         [0.23921569, 0.20784314, 0.22352941],\n",
              "         [0.36470588, 0.3254902 , 0.35686275]],\n",
              "\n",
              "        [[0.64705882, 0.60392157, 0.50196078],\n",
              "         [0.61176471, 0.59607843, 0.50980392],\n",
              "         [0.62352941, 0.63137255, 0.55686275],\n",
              "         ...,\n",
              "         [0.40392157, 0.36470588, 0.37647059],\n",
              "         [0.48235294, 0.44705882, 0.47058824],\n",
              "         [0.51372549, 0.4745098 , 0.51372549]],\n",
              "\n",
              "        [[0.63921569, 0.58039216, 0.47058824],\n",
              "         [0.61960784, 0.58039216, 0.47843137],\n",
              "         [0.63921569, 0.61176471, 0.52156863],\n",
              "         ...,\n",
              "         [0.56078431, 0.52156863, 0.54509804],\n",
              "         [0.56078431, 0.5254902 , 0.55686275],\n",
              "         [0.56078431, 0.52156863, 0.56470588]]],\n",
              "\n",
              "\n",
              "       [[[1.        , 1.        , 1.        ],\n",
              "         [0.99215686, 0.99215686, 0.99215686],\n",
              "         [0.99215686, 0.99215686, 0.99215686],\n",
              "         ...,\n",
              "         [0.99215686, 0.99215686, 0.99215686],\n",
              "         [0.99215686, 0.99215686, 0.99215686],\n",
              "         [0.99215686, 0.99215686, 0.99215686]],\n",
              "\n",
              "        [[1.        , 1.        , 1.        ],\n",
              "         [1.        , 1.        , 1.        ],\n",
              "         [1.        , 1.        , 1.        ],\n",
              "         ...,\n",
              "         [1.        , 1.        , 1.        ],\n",
              "         [1.        , 1.        , 1.        ],\n",
              "         [1.        , 1.        , 1.        ]],\n",
              "\n",
              "        [[1.        , 1.        , 1.        ],\n",
              "         [0.99607843, 0.99607843, 0.99607843],\n",
              "         [0.99607843, 0.99607843, 0.99607843],\n",
              "         ...,\n",
              "         [0.99607843, 0.99607843, 0.99607843],\n",
              "         [0.99607843, 0.99607843, 0.99607843],\n",
              "         [0.99607843, 0.99607843, 0.99607843]],\n",
              "\n",
              "        ...,\n",
              "\n",
              "        [[0.44313725, 0.47058824, 0.43921569],\n",
              "         [0.43529412, 0.4627451 , 0.43529412],\n",
              "         [0.41176471, 0.43921569, 0.41568627],\n",
              "         ...,\n",
              "         [0.28235294, 0.31764706, 0.31372549],\n",
              "         [0.28235294, 0.31372549, 0.30980392],\n",
              "         [0.28235294, 0.31372549, 0.30980392]],\n",
              "\n",
              "        [[0.43529412, 0.4627451 , 0.43137255],\n",
              "         [0.40784314, 0.43529412, 0.40784314],\n",
              "         [0.38823529, 0.41568627, 0.38431373],\n",
              "         ...,\n",
              "         [0.26666667, 0.29411765, 0.28627451],\n",
              "         [0.2745098 , 0.29803922, 0.29411765],\n",
              "         [0.30588235, 0.32941176, 0.32156863]],\n",
              "\n",
              "        [[0.41568627, 0.44313725, 0.41176471],\n",
              "         [0.38823529, 0.41568627, 0.38431373],\n",
              "         [0.37254902, 0.4       , 0.36862745],\n",
              "         ...,\n",
              "         [0.30588235, 0.33333333, 0.3254902 ],\n",
              "         [0.30980392, 0.33333333, 0.3254902 ],\n",
              "         [0.31372549, 0.3372549 , 0.32941176]]],\n",
              "\n",
              "\n",
              "       ...,\n",
              "\n",
              "\n",
              "       [[[0.1372549 , 0.69803922, 0.92156863],\n",
              "         [0.15686275, 0.69019608, 0.9372549 ],\n",
              "         [0.16470588, 0.69019608, 0.94509804],\n",
              "         ...,\n",
              "         [0.38823529, 0.69411765, 0.85882353],\n",
              "         [0.30980392, 0.57647059, 0.77254902],\n",
              "         [0.34901961, 0.58039216, 0.74117647]],\n",
              "\n",
              "        [[0.22352941, 0.71372549, 0.91764706],\n",
              "         [0.17254902, 0.72156863, 0.98039216],\n",
              "         [0.19607843, 0.71764706, 0.94117647],\n",
              "         ...,\n",
              "         [0.61176471, 0.71372549, 0.78431373],\n",
              "         [0.55294118, 0.69411765, 0.80784314],\n",
              "         [0.45490196, 0.58431373, 0.68627451]],\n",
              "\n",
              "        [[0.38431373, 0.77254902, 0.92941176],\n",
              "         [0.25098039, 0.74117647, 0.98823529],\n",
              "         [0.27058824, 0.75294118, 0.96078431],\n",
              "         ...,\n",
              "         [0.7372549 , 0.76470588, 0.80784314],\n",
              "         [0.46666667, 0.52941176, 0.57647059],\n",
              "         [0.23921569, 0.30980392, 0.35294118]],\n",
              "\n",
              "        ...,\n",
              "\n",
              "        [[0.28627451, 0.30980392, 0.30196078],\n",
              "         [0.20784314, 0.24705882, 0.26666667],\n",
              "         [0.21176471, 0.26666667, 0.31372549],\n",
              "         ...,\n",
              "         [0.06666667, 0.15686275, 0.25098039],\n",
              "         [0.08235294, 0.14117647, 0.2       ],\n",
              "         [0.12941176, 0.18823529, 0.19215686]],\n",
              "\n",
              "        [[0.23921569, 0.26666667, 0.29411765],\n",
              "         [0.21568627, 0.2745098 , 0.3372549 ],\n",
              "         [0.22352941, 0.30980392, 0.40392157],\n",
              "         ...,\n",
              "         [0.09411765, 0.18823529, 0.28235294],\n",
              "         [0.06666667, 0.1372549 , 0.20784314],\n",
              "         [0.02745098, 0.09019608, 0.1254902 ]],\n",
              "\n",
              "        [[0.17254902, 0.21960784, 0.28627451],\n",
              "         [0.18039216, 0.25882353, 0.34509804],\n",
              "         [0.19215686, 0.30196078, 0.41176471],\n",
              "         ...,\n",
              "         [0.10588235, 0.20392157, 0.30196078],\n",
              "         [0.08235294, 0.16862745, 0.25882353],\n",
              "         [0.04705882, 0.12156863, 0.19607843]]],\n",
              "\n",
              "\n",
              "       [[[0.74117647, 0.82745098, 0.94117647],\n",
              "         [0.72941176, 0.81568627, 0.9254902 ],\n",
              "         [0.7254902 , 0.81176471, 0.92156863],\n",
              "         ...,\n",
              "         [0.68627451, 0.76470588, 0.87843137],\n",
              "         [0.6745098 , 0.76078431, 0.87058824],\n",
              "         [0.6627451 , 0.76078431, 0.8627451 ]],\n",
              "\n",
              "        [[0.76078431, 0.82352941, 0.9372549 ],\n",
              "         [0.74901961, 0.81176471, 0.9254902 ],\n",
              "         [0.74509804, 0.80784314, 0.92156863],\n",
              "         ...,\n",
              "         [0.67843137, 0.75294118, 0.8627451 ],\n",
              "         [0.67058824, 0.74901961, 0.85490196],\n",
              "         [0.65490196, 0.74509804, 0.84705882]],\n",
              "\n",
              "        [[0.81568627, 0.85882353, 0.95686275],\n",
              "         [0.80392157, 0.84705882, 0.94117647],\n",
              "         [0.8       , 0.84313725, 0.9372549 ],\n",
              "         ...,\n",
              "         [0.68627451, 0.74901961, 0.85098039],\n",
              "         [0.6745098 , 0.74509804, 0.84705882],\n",
              "         [0.6627451 , 0.74901961, 0.84313725]],\n",
              "\n",
              "        ...,\n",
              "\n",
              "        [[0.81176471, 0.78039216, 0.70980392],\n",
              "         [0.79607843, 0.76470588, 0.68627451],\n",
              "         [0.79607843, 0.76862745, 0.67843137],\n",
              "         ...,\n",
              "         [0.52941176, 0.51764706, 0.49803922],\n",
              "         [0.63529412, 0.61960784, 0.58823529],\n",
              "         [0.65882353, 0.63921569, 0.59215686]],\n",
              "\n",
              "        [[0.77647059, 0.74509804, 0.66666667],\n",
              "         [0.74117647, 0.70980392, 0.62352941],\n",
              "         [0.70588235, 0.6745098 , 0.57647059],\n",
              "         ...,\n",
              "         [0.69803922, 0.67058824, 0.62745098],\n",
              "         [0.68627451, 0.6627451 , 0.61176471],\n",
              "         [0.68627451, 0.6627451 , 0.60392157]],\n",
              "\n",
              "        [[0.77647059, 0.74117647, 0.67843137],\n",
              "         [0.74117647, 0.70980392, 0.63529412],\n",
              "         [0.69803922, 0.66666667, 0.58431373],\n",
              "         ...,\n",
              "         [0.76470588, 0.72156863, 0.6627451 ],\n",
              "         [0.76862745, 0.74117647, 0.67058824],\n",
              "         [0.76470588, 0.74509804, 0.67058824]]],\n",
              "\n",
              "\n",
              "       [[[0.89803922, 0.89803922, 0.9372549 ],\n",
              "         [0.9254902 , 0.92941176, 0.96862745],\n",
              "         [0.91764706, 0.9254902 , 0.96862745],\n",
              "         ...,\n",
              "         [0.85098039, 0.85882353, 0.91372549],\n",
              "         [0.86666667, 0.8745098 , 0.91764706],\n",
              "         [0.87058824, 0.8745098 , 0.91372549]],\n",
              "\n",
              "        [[0.87058824, 0.86666667, 0.89803922],\n",
              "         [0.9372549 , 0.9372549 , 0.97647059],\n",
              "         [0.91372549, 0.91764706, 0.96470588],\n",
              "         ...,\n",
              "         [0.8745098 , 0.8745098 , 0.9254902 ],\n",
              "         [0.89019608, 0.89411765, 0.93333333],\n",
              "         [0.82352941, 0.82745098, 0.8627451 ]],\n",
              "\n",
              "        [[0.83529412, 0.80784314, 0.82745098],\n",
              "         [0.91764706, 0.90980392, 0.9372549 ],\n",
              "         [0.90588235, 0.91372549, 0.95686275],\n",
              "         ...,\n",
              "         [0.8627451 , 0.8627451 , 0.90980392],\n",
              "         [0.8627451 , 0.85882353, 0.90980392],\n",
              "         [0.79215686, 0.79607843, 0.84313725]],\n",
              "\n",
              "        ...,\n",
              "\n",
              "        [[0.58823529, 0.56078431, 0.52941176],\n",
              "         [0.54901961, 0.52941176, 0.49803922],\n",
              "         [0.51764706, 0.49803922, 0.47058824],\n",
              "         ...,\n",
              "         [0.87843137, 0.87058824, 0.85490196],\n",
              "         [0.90196078, 0.89411765, 0.88235294],\n",
              "         [0.94509804, 0.94509804, 0.93333333]],\n",
              "\n",
              "        [[0.5372549 , 0.51764706, 0.49411765],\n",
              "         [0.50980392, 0.49803922, 0.47058824],\n",
              "         [0.49019608, 0.4745098 , 0.45098039],\n",
              "         ...,\n",
              "         [0.70980392, 0.70588235, 0.69803922],\n",
              "         [0.79215686, 0.78823529, 0.77647059],\n",
              "         [0.83137255, 0.82745098, 0.81176471]],\n",
              "\n",
              "        [[0.47843137, 0.46666667, 0.44705882],\n",
              "         [0.4627451 , 0.45490196, 0.43137255],\n",
              "         [0.47058824, 0.45490196, 0.43529412],\n",
              "         ...,\n",
              "         [0.70196078, 0.69411765, 0.67843137],\n",
              "         [0.64313725, 0.64313725, 0.63529412],\n",
              "         [0.63921569, 0.63921569, 0.63137255]]]])"
            ]
          },
          "metadata": {},
          "execution_count": 29
        }
      ],
      "source": [
        "# ubah nilai citra pada sampel latih dan uji \n",
        "# dari interval [0,255] menjadi ke [0,1]\n",
        "X_train = X_train / 255\n",
        "X_test = X_test / 255\n",
        "\n",
        "X_train"
      ]
    },
    {
      "cell_type": "markdown",
      "metadata": {
        "id": "nMN3N8hJ-F5-"
      },
      "source": [
        "### **Pemodelan**"
      ]
    },
    {
      "cell_type": "markdown",
      "metadata": {
        "id": "MgE-eJxG-F5-"
      },
      "source": [
        "**Bangun arsitektur *Convolutional Neural Network***\n",
        "\n",
        "\n"
      ]
    },
    {
      "cell_type": "code",
      "execution_count": null,
      "metadata": {
        "id": "ugon0JQ6-F5_",
        "colab": {
          "base_uri": "https://localhost:8080/"
        },
        "outputId": "ee6784be-c804-48b6-c274-3cf674e8ab16"
      },
      "outputs": [
        {
          "output_type": "stream",
          "name": "stdout",
          "text": [
            "Model summary:\n",
            "\n",
            "Model: \"sequential_3\"\n",
            "_________________________________________________________________\n",
            " Layer (type)                Output Shape              Param #   \n",
            "=================================================================\n",
            " conv2d_6 (Conv2D)           (None, 28, 28, 32)        2432      \n",
            "                                                                 \n",
            " max_pooling2d_6 (MaxPooling  (None, 14, 14, 32)       0         \n",
            " 2D)                                                             \n",
            "                                                                 \n",
            " conv2d_7 (Conv2D)           (None, 10, 10, 64)        51264     \n",
            "                                                                 \n",
            " max_pooling2d_7 (MaxPooling  (None, 5, 5, 64)         0         \n",
            " 2D)                                                             \n",
            "                                                                 \n",
            " flatten_3 (Flatten)         (None, 1600)              0         \n",
            "                                                                 \n",
            " dense_12 (Dense)            (None, 1000)              1601000   \n",
            "                                                                 \n",
            " dropout_6 (Dropout)         (None, 1000)              0         \n",
            "                                                                 \n",
            " dense_13 (Dense)            (None, 500)               500500    \n",
            "                                                                 \n",
            " dropout_7 (Dropout)         (None, 500)               0         \n",
            "                                                                 \n",
            " dense_14 (Dense)            (None, 250)               125250    \n",
            "                                                                 \n",
            " dense_15 (Dense)            (None, 10)                2510      \n",
            "                                                                 \n",
            "=================================================================\n",
            "Total params: 2,282,956\n",
            "Trainable params: 2,282,956\n",
            "Non-trainable params: 0\n",
            "_________________________________________________________________\n"
          ]
        }
      ],
      "source": [
        "model = Sequential()\n",
        "# Convolutional and pooling layers\n",
        "model.add(Conv2D(32, (5, 5), activation='relu', input_shape=(32, 32, 3)))\n",
        "model.add(MaxPooling2D(pool_size=(2, 2)))\n",
        "model.add(Conv2D(64, (5, 5), activation='relu'))\n",
        "model.add(MaxPooling2D(pool_size=(2, 2)))\n",
        "model.add(Flatten())\n",
        "# Neural Network and dropout layers\n",
        "model.add(Dense(1000, activation='relu'))\n",
        "model.add(Dropout(0.5))\n",
        "model.add(Dense(500, activation='relu'))\n",
        "model.add(Dropout(0.5))\n",
        "model.add(Dense(250, activation='relu'))\n",
        "model.add(Dense(10, activation='softmax'))\n",
        "\n",
        "print('Model summary:\\n')\n",
        "model.summary()"
      ]
    },
    {
      "cell_type": "markdown",
      "metadata": {
        "id": "z6bqlhs7-F6D"
      },
      "source": [
        "**Kompilasi model**"
      ]
    },
    {
      "cell_type": "code",
      "execution_count": null,
      "metadata": {
        "id": "0hCORjQR-F6F"
      },
      "outputs": [],
      "source": [
        "model.compile(loss='categorical_crossentropy',\n",
        "              optimizer='adam',\n",
        "              metrics=['accuracy'])"
      ]
    },
    {
      "cell_type": "markdown",
      "metadata": {
        "id": "-tKv49O0-F6O"
      },
      "source": [
        "### **Pelatihan Model**"
      ]
    },
    {
      "cell_type": "code",
      "execution_count": null,
      "metadata": {
        "colab": {
          "base_uri": "https://localhost:8080/"
        },
        "id": "Vl-d-Jb1-F6Q",
        "outputId": "a8adef4a-098d-472c-d857-0c1cfce95cb3"
      },
      "outputs": [
        {
          "output_type": "stream",
          "name": "stdout",
          "text": [
            "Epoch 1/10\n",
            "157/157 [==============================] - 3s 14ms/step - loss: 1.7827 - accuracy: 0.3294 - val_loss: 1.4775 - val_accuracy: 0.4611\n",
            "Epoch 2/10\n",
            "157/157 [==============================] - 2s 12ms/step - loss: 1.4225 - accuracy: 0.4789 - val_loss: 1.3400 - val_accuracy: 0.5101\n",
            "Epoch 3/10\n",
            "157/157 [==============================] - 2s 12ms/step - loss: 1.2663 - accuracy: 0.5401 - val_loss: 1.2225 - val_accuracy: 0.5718\n",
            "Epoch 4/10\n",
            "157/157 [==============================] - 2s 13ms/step - loss: 1.1546 - accuracy: 0.5881 - val_loss: 1.1037 - val_accuracy: 0.6116\n",
            "Epoch 5/10\n",
            "157/157 [==============================] - 2s 12ms/step - loss: 1.0426 - accuracy: 0.6273 - val_loss: 1.0610 - val_accuracy: 0.6313\n",
            "Epoch 6/10\n",
            "157/157 [==============================] - 2s 12ms/step - loss: 0.9638 - accuracy: 0.6577 - val_loss: 1.0303 - val_accuracy: 0.6408\n",
            "Epoch 7/10\n",
            "157/157 [==============================] - 2s 12ms/step - loss: 0.8971 - accuracy: 0.6828 - val_loss: 0.9483 - val_accuracy: 0.6723\n",
            "Epoch 8/10\n",
            "157/157 [==============================] - 2s 12ms/step - loss: 0.8214 - accuracy: 0.7102 - val_loss: 0.9061 - val_accuracy: 0.6851\n",
            "Epoch 9/10\n",
            "157/157 [==============================] - 2s 11ms/step - loss: 0.7485 - accuracy: 0.7342 - val_loss: 0.9238 - val_accuracy: 0.6863\n",
            "Epoch 10/10\n",
            "157/157 [==============================] - 2s 12ms/step - loss: 0.6901 - accuracy: 0.7536 - val_loss: 0.9478 - val_accuracy: 0.6810\n"
          ]
        }
      ],
      "source": [
        "hist = model.fit(X_train, \n",
        "                 y_train_one_hot,\n",
        "                 batch_size=256, \n",
        "                 epochs=10, \n",
        "                 validation_split=0.2)"
      ]
    },
    {
      "cell_type": "markdown",
      "source": [
        "### **Evaluasi Model**"
      ],
      "metadata": {
        "id": "b03V9RDI0FNx"
      }
    },
    {
      "cell_type": "code",
      "execution_count": null,
      "metadata": {
        "colab": {
          "base_uri": "https://localhost:8080/"
        },
        "id": "ZaL3lHsr-F6U",
        "outputId": "59a6ae93-76cb-4169-c57b-0f4cb936147c"
      },
      "outputs": [
        {
          "output_type": "stream",
          "name": "stdout",
          "text": [
            "313/313 [==============================] - 1s 3ms/step - loss: 0.9711 - accuracy: 0.6728\n",
            "Accuracy score: 0.6728000044822693\n"
          ]
        }
      ],
      "source": [
        "# Evaluasi model tehadap sampel uji\n",
        "accuracy = model.evaluate(X_test, y_test_one_hot)[1]\n",
        "\n",
        "print('Accuracy score:', accuracy)"
      ]
    },
    {
      "cell_type": "code",
      "execution_count": null,
      "metadata": {
        "colab": {
          "base_uri": "https://localhost:8080/",
          "height": 325
        },
        "id": "vnoQ4AKb-F6X",
        "outputId": "cb3614f1-8639-4868-e849-6f07fc35b2d1"
      },
      "outputs": [
        {
          "output_type": "display_data",
          "data": {
            "text/plain": [
              "<Figure size 432x288 with 1 Axes>"
            ],
            "image/png": "[encoded data removed]"
          },
          "metadata": {}
        }
      ],
      "source": [
        "# Memvisualisasikan akurasi dari hasil pelatihan\n",
        "plt.plot(hist.history['accuracy'])\n",
        "plt.plot(hist.history['val_accuracy'])\n",
        "plt.title('Model Accuracy')\n",
        "plt.ylabel('Accuracy')\n",
        "plt.xlabel('Epoch')\n",
        "plt.legend(['Train', 'Val'], loc='upper left')\n",
        "plt.show()"
      ]
    },
    {
      "cell_type": "code",
      "execution_count": null,
      "metadata": {
        "colab": {
          "base_uri": "https://localhost:8080/",
          "height": 325
        },
        "id": "1AUQUEvr-F6c",
        "outputId": "b8fa5461-d346-44d9-ffcd-cb628c7678f6"
      },
      "outputs": [
        {
          "output_type": "display_data",
          "data": {
            "text/plain": [
              "<Figure size 432x288 with 1 Axes>"
            ],
            "image/png": "[encoded data removed]"
          },
          "metadata": {}
        }
      ],
      "source": [
        "# Memvisualisasikan kerugian (loss) dari hasil pelatihan\n",
        "plt.plot(hist.history['loss'])\n",
        "plt.plot(hist.history['val_loss'])\n",
        "plt.title('Model Loss')\n",
        "plt.ylabel('Loss')\n",
        "plt.xlabel('Epoch')\n",
        "plt.legend(['Train', 'Val'], loc='upper right')\n",
        "plt.show()"
      ]
    },
    {
      "cell_type": "markdown",
      "metadata": {
        "id": "II1PoHSg-F6f"
      },
      "source": [
        "### **Pengujian Model dengan Citra Unggahan**"
      ]
    },
    {
      "cell_type": "markdown",
      "metadata": {
        "id": "MbDfZhcP-F6g"
      },
      "source": [
        "**Unggah citra uji jika menggunakan Google Colab**"
      ]
    },
    {
      "cell_type": "code",
      "execution_count": null,
      "metadata": {
        "id": "kOee576B-F6h",
        "colab": {
          "base_uri": "https://localhost:8080/",
          "height": 124
        },
        "outputId": "dc8fe5be-45b4-4095-a6c7-15810e968841"
      },
      "outputs": [
        {
          "output_type": "display_data",
          "data": {
            "text/plain": [
              "<IPython.core.display.HTML object>"
            ],
            "text/html": [
              "\n",
              "     <input type=\"file\" id=\"files-4f6a4049-5b5e-4483-b987-b48980ae7939\" name=\"files[]\" multiple disabled\n",
              "        style=\"border:none\" />\n",
              "     <output id=\"result-4f6a4049-5b5e-4483-b987-b48980ae7939\">\n",
              "      Upload widget is only available when the cell has been executed in the\n",
              "      current browser session. Please rerun this cell to enable.\n",
              "      </output>\n",
              "      <script>// Copyright 2017 Google LLC\n",
              "//\n",
              "// Licensed under the Apache License, Version 2.0 (the \"License\");\n",
              "// you may not use this file except in compliance with the License.\n",
              "// You may obtain a copy of the License at\n",
              "//\n",
              "//      http://www.apache.org/licenses/LICENSE-2.0\n",
              "//\n",
              "// Unless required by applicable law or agreed to in writing, software\n",
              "// distributed under the License is distributed on an \"AS IS\" BASIS,\n",
              "// WITHOUT WARRANTIES OR CONDITIONS OF ANY KIND, either express or implied.\n",
              "// See the License for the specific language governing permissions and\n",
              "// limitations under the License.\n",
              "\n",
              "/**\n",
              " * @fileoverview Helpers for google.colab Python module.\n",
              " */\n",
              "(function(scope) {\n",
              "function span(text, styleAttributes = {}) {\n",
              "  const element = document.createElement('span');\n",
              "  element.textContent = text;\n",
              "  for (const key of Object.keys(styleAttributes)) {\n",
              "    element.style[key] = styleAttributes[key];\n",
              "  }\n",
              "  return element;\n",
              "}\n",
              "\n",
              "// Max number of bytes which will be uploaded at a time.\n",
              "const MAX_PAYLOAD_SIZE = 100 * 1024;\n",
              "\n",
              "function _uploadFiles(inputId, outputId) {\n",
              "  const steps = uploadFilesStep(inputId, outputId);\n",
              "  const outputElement = document.getElementById(outputId);\n",
              "  // Cache steps on the outputElement to make it available for the next call\n",
              "  // to uploadFilesContinue from Python.\n",
              "  outputElement.steps = steps;\n",
              "\n",
              "  return _uploadFilesContinue(outputId);\n",
              "}\n",
              "\n",
              "// This is roughly an async generator (not supported in the browser yet),\n",
              "// where there are multiple asynchronous steps and the Python side is going\n",
              "// to poll for completion of each step.\n",
              "// This uses a Promise to block the python side on completion of each step,\n",
              "// then passes the result of the previous step as the input to the next step.\n",
              "function _uploadFilesContinue(outputId) {\n",
              "  const outputElement = document.getElementById(outputId);\n",
              "  const steps = outputElement.steps;\n",
              "\n",
              "  const next = steps.next(outputElement.lastPromiseValue);\n",
              "  return Promise.resolve(next.value.promise).then((value) => {\n",
              "    // Cache the last promise value to make it available to the next\n",
              "    // step of the generator.\n",
              "    outputElement.lastPromiseValue = value;\n",
              "    return next.value.response;\n",
              "  });\n",
              "}\n",
              "\n",
              "/**\n",
              " * Generator function which is called between each async step of the upload\n",
              " * process.\n",
              " * @param {string} inputId Element ID of the input file picker element.\n",
              " * @param {string} outputId Element ID of the output display.\n",
              " * @return {!Iterable<!Object>} Iterable of next steps.\n",
              " */\n",
              "function* uploadFilesStep(inputId, outputId) {\n",
              "  const inputElement = document.getElementById(inputId);\n",
              "  inputElement.disabled = false;\n",
              "\n",
              "  const outputElement = document.getElementById(outputId);\n",
              "  outputElement.innerHTML = '';\n",
              "\n",
              "  const pickedPromise = new Promise((resolve) => {\n",
              "    inputElement.addEventListener('change', (e) => {\n",
              "      resolve(e.target.files);\n",
              "    });\n",
              "  });\n",
              "\n",
              "  const cancel = document.createElement('button');\n",
              "  inputElement.parentElement.appendChild(cancel);\n",
              "  cancel.textContent = 'Cancel upload';\n",
              "  const cancelPromise = new Promise((resolve) => {\n",
              "    cancel.onclick = () => {\n",
              "      resolve(null);\n",
              "    };\n",
              "  });\n",
              "\n",
              "  // Wait for the user to pick the files.\n",
              "  const files = yield {\n",
              "    promise: Promise.race([pickedPromise, cancelPromise]),\n",
              "    response: {\n",
              "      action: 'starting',\n",
              "    }\n",
              "  };\n",
              "\n",
              "  cancel.remove();\n",
              "\n",
              "  // Disable the input element since further picks are not allowed.\n",
              "  inputElement.disabled = true;\n",
              "\n",
              "  if (!files) {\n",
              "    return {\n",
              "      response: {\n",
              "        action: 'complete',\n",
              "      }\n",
              "    };\n",
              "  }\n",
              "\n",
              "  for (const file of files) {\n",
              "    const li = document.createElement('li');\n",
              "    li.append(span(file.name, {fontWeight: 'bold'}));\n",
              "    li.append(span(\n",
              "        `(${file.type || 'n/a'}) - ${file.size} bytes, ` +\n",
              "        `last modified: ${\n",
              "            file.lastModifiedDate ? file.lastModifiedDate.toLocaleDateString() :\n",
              "                                    'n/a'} - `));\n",
              "    const percent = span('0% done');\n",
              "    li.appendChild(percent);\n",
              "\n",
              "    outputElement.appendChild(li);\n",
              "\n",
              "    const fileDataPromise = new Promise((resolve) => {\n",
              "      const reader = new FileReader();\n",
              "      reader.onload = (e) => {\n",
              "        resolve(e.target.result);\n",
              "      };\n",
              "      reader.readAsArrayBuffer(file);\n",
              "    });\n",
              "    // Wait for the data to be ready.\n",
              "    let fileData = yield {\n",
              "      promise: fileDataPromise,\n",
              "      response: {\n",
              "        action: 'continue',\n",
              "      }\n",
              "    };\n",
              "\n",
              "    // Use a chunked sending to avoid message size limits. See b/62115660.\n",
              "    let position = 0;\n",
              "    do {\n",
              "      const length = Math.min(fileData.byteLength - position, MAX_PAYLOAD_SIZE);\n",
              "      const chunk = new Uint8Array(fileData, position, length);\n",
              "      position += length;\n",
              "\n",
              "      const base64 = btoa(String.fromCharCode.apply(null, chunk));\n",
              "      yield {\n",
              "        response: {\n",
              "          action: 'append',\n",
              "          file: file.name,\n",
              "          data: base64,\n",
              "        },\n",
              "      };\n",
              "\n",
              "      let percentDone = fileData.byteLength === 0 ?\n",
              "          100 :\n",
              "          Math.round((position / fileData.byteLength) * 100);\n",
              "      percent.textContent = `${percentDone}% done`;\n",
              "\n",
              "    } while (position < fileData.byteLength);\n",
              "  }\n",
              "\n",
              "  // All done.\n",
              "  yield {\n",
              "    response: {\n",
              "      action: 'complete',\n",
              "    }\n",
              "  };\n",
              "}\n",
              "\n",
              "scope.google = scope.google || {};\n",
              "scope.google.colab = scope.google.colab || {};\n",
              "scope.google.colab._files = {\n",
              "  _uploadFiles,\n",
              "  _uploadFilesContinue,\n",
              "};\n",
              "})(self);\n",
              "</script> "
            ]
          },
          "metadata": {}
        },
        {
          "output_type": "stream",
          "name": "stdout",
          "text": [
            "Saving dog_0006.jpg to dog_0006.jpg\n",
            "\n",
            "> Isi current working directory:\n",
            "dog_0000.jpg  dog_0006.jpg  sample_data\n"
          ]
        }
      ],
      "source": [
        "from google.colab import files\n",
        "\n",
        "uploaded = files.upload()\n",
        "uploaded_file_name = list(uploaded.keys())[0]\n",
        "\n",
        "print('\\n> Isi current working directory:')\n",
        "!ls"
      ]
    },
    {
      "cell_type": "markdown",
      "source": [
        "**Uaggah citra uji jika menggunakan IDE lokal**"
      ],
      "metadata": {
        "id": "D7Gh35YwIB8X"
      }
    },
    {
      "cell_type": "code",
      "source": [
        "\"\"\"\n",
        "import shutil\n",
        "import tkinter as tk\n",
        "from tkinter import filedialog as fd\n",
        "\n",
        "def upload_file():\n",
        "    root = tk.Tk()\n",
        "    root.wm_withdraw()\n",
        "    curr_directory = os.getcwd()\n",
        "    source_path = fd.askopenfilename(initialdir=curr_directory, \n",
        "                                    title=\"Select Image\", \n",
        "                                    filetypes=[('Image Files', '*.jpg')])\n",
        "    root.destroy()  # Tutup root Tkinter dialog\n",
        "\n",
        "    uploaded_file_name = os.path.basename(source_path)\n",
        "    uploaded_path = os.path.join(curr_directory, uploaded_file_name)\n",
        "    shutil.copyfile(source_path, uploaded_path)\n",
        "\n",
        "    return uploaded_file_name\n",
        "\n",
        "uploaded_file_name = upload_file()\n",
        "\n",
        "# Tampilkan isi current working directory terbaru\n",
        "print('\\n> Isi \"cwd\":')\n",
        "for file in os.listdir(os.getcwd()):\n",
        "    print(file)\n",
        "\"\"\""
      ],
      "metadata": {
        "id": "l_l5kzRoH4qO",
        "colab": {
          "base_uri": "https://localhost:8080/",
          "height": 139
        },
        "outputId": "73bf8f66-8146-4844-acc6-5b6631013cb2"
      },
      "execution_count": null,
      "outputs": [
        {
          "output_type": "execute_result",
          "data": {
            "text/plain": [
              "'\\nimport shutil\\nimport tkinter as tk\\nfrom tkinter import filedialog as fd\\n\\ndef upload_file():\\n    root = tk.Tk()\\n    root.wm_withdraw()\\n    curr_directory = os.getcwd()\\n    source_path = fd.askopenfilename(initialdir=curr_directory, \\n                                    title=\"Select Image\", \\n                                    filetypes=[(\\'Image Files\\', \\'*.jpg\\')])\\n    root.destroy()  # Tutup root Tkinter dialog\\n\\n    uploaded_file_name = os.path.basename(source_path)\\n    uploaded_path = os.path.join(curr_directory, uploaded_file_name)\\n    shutil.copyfile(source_path, uploaded_path)\\n\\n    return uploaded_file_name\\n\\nuploaded_file_name = upload_file()\\n\\n# Tampilkan isi current working directory terbaru\\nprint(\\'\\n> Isi \"cwd\":\\')\\nfor file in os.listdir(os.getcwd()):\\n    print(file)\\n'"
            ],
            "application/vnd.google.colaboratory.intrinsic+json": {
              "type": "string"
            }
          },
          "metadata": {},
          "execution_count": 39
        }
      ]
    },
    {
      "cell_type": "markdown",
      "source": [
        "**Baca dan tampilkan citra uji unggahan**"
      ],
      "metadata": {
        "id": "pvC1zp-Anh_N"
      }
    },
    {
      "cell_type": "code",
      "source": [
        "print(f'\\nNama file citra unggahan: \"{uploaded_file_name}\" \\n')\n",
        "# Membaca file unggahan\n",
        "new_image = plt.imread(uploaded_file_name)\n",
        "\n",
        "# Tampilkan citra unggahan secara visual\n",
        "img = plt.imshow(new_image)"
      ],
      "metadata": {
        "colab": {
          "base_uri": "https://localhost:8080/",
          "height": 339
        },
        "id": "rjoFJH5Ix6al",
        "outputId": "bd0c180c-d499-414e-e7c6-12b2c3a3282c"
      },
      "execution_count": null,
      "outputs": [
        {
          "output_type": "stream",
          "name": "stdout",
          "text": [
            "\n",
            "Nama file citra unggahan: \"dog_0006.jpg\" \n",
            "\n"
          ]
        },
        {
          "output_type": "display_data",
          "data": {
            "text/plain": [
              "<Figure size 432x288 with 1 Axes>"
            ],
            "image/png": "[encoded data removed]"
          },
          "metadata": {}
        }
      ]
    },
    {
      "cell_type": "markdown",
      "metadata": {
        "id": "hs4aIH3d-F6r"
      },
      "source": [
        "**Transformasi citra uji unggahan**"
      ]
    },
    {
      "cell_type": "code",
      "execution_count": null,
      "metadata": {
        "id": "4mTmLsKD-F6x",
        "colab": {
          "base_uri": "https://localhost:8080/",
          "height": 284
        },
        "outputId": "adac176c-86f1-43cd-a9f9-adae72344b70"
      },
      "outputs": [
        {
          "output_type": "display_data",
          "data": {
            "text/plain": [
              "<Figure size 432x288 with 1 Axes>"
            ],
            "image/png": "[encoded data removed]"
          },
          "metadata": {}
        }
      ],
      "source": [
        "from skimage.transform import resize\n",
        "# Ubah ukuran citra sehingga sesuai dengan input layer pada model\n",
        "resized_image = resize(new_image, (32, 32, 3))\n",
        "\n",
        "img = plt.imshow(resized_image)"
      ]
    },
    {
      "cell_type": "markdown",
      "metadata": {
        "id": "2JZHMtje-F6z"
      },
      "source": [
        "**Buat prediksi**"
      ]
    },
    {
      "cell_type": "code",
      "execution_count": null,
      "metadata": {
        "colab": {
          "base_uri": "https://localhost:8080/"
        },
        "id": "zriNo-ZJ-F62",
        "outputId": "82f484ea-1b8e-42e8-e327-2b1c6432f410"
      },
      "outputs": [
        {
          "output_type": "stream",
          "name": "stdout",
          "text": [
            "1/1 [==============================] - 0s 19ms/step\n"
          ]
        }
      ],
      "source": [
        "predictions = model.predict(np.array([resized_image]))"
      ]
    },
    {
      "cell_type": "markdown",
      "metadata": {
        "id": "LcJZhR7L-F65"
      },
      "source": [
        "**Hasil prediksi**"
      ]
    },
    {
      "cell_type": "code",
      "source": [
        "predictions"
      ],
      "metadata": {
        "colab": {
          "base_uri": "https://localhost:8080/"
        },
        "id": "FS4QSG1koPEl",
        "outputId": "95d7ce6d-2a0f-4bd5-9077-d11d51b34c29"
      },
      "execution_count": null,
      "outputs": [
        {
          "output_type": "execute_result",
          "data": {
            "text/plain": [
              "array([[1.4761684e-05, 1.7199295e-06, 3.5978045e-04, 4.6784177e-02,\n",
              "        3.7786382e-04, 9.5180041e-01, 9.5102536e-05, 5.5454043e-04,\n",
              "        7.1347040e-06, 4.5270908e-06]], dtype=float32)"
            ]
          },
          "metadata": {},
          "execution_count": 44
        }
      ]
    },
    {
      "cell_type": "code",
      "execution_count": null,
      "metadata": {
        "colab": {
          "base_uri": "https://localhost:8080/"
        },
        "id": "SPFRkpY9-F68",
        "outputId": "cf050e04-c89e-4c15-8353-93156c4c326c"
      },
      "outputs": [
        {
          "output_type": "stream",
          "name": "stdout",
          "text": [
            "[5, 3, 7, 4, 2, 6, 0, 8, 9, 1]\n"
          ]
        }
      ],
      "source": [
        "# Urutkan probabilitas hasil prediksi yang berkesesuaian terhadap kelas\n",
        "list_index = [0,1,2,3,4,5,6,7,8,9]\n",
        "x = predictions\n",
        "\n",
        "for i in range(10):\n",
        "  for j in range(10):\n",
        "    if x[0][list_index[i]] > x[0][list_index[j]]:\n",
        "      temp = list_index[i]\n",
        "      list_index[i] = list_index[j]\n",
        "      list_index[j] = temp\n",
        "\n",
        "print(list_index)"
      ]
    },
    {
      "cell_type": "code",
      "execution_count": null,
      "metadata": {
        "colab": {
          "base_uri": "https://localhost:8080/"
        },
        "id": "bmpK3n2N-F7A",
        "outputId": "860ed018-3315-48ac-f16c-31b7fd16e004"
      },
      "outputs": [
        {
          "output_type": "stream",
          "name": "stdout",
          "text": [
            "dog        : 95.18 %\n",
            "cat        : 4.68 %\n",
            "horse      : 0.06 %\n",
            "deer       : 0.04 %\n",
            "bird       : 0.04 %\n"
          ]
        }
      ],
      "source": [
        "# Tampilkan 5 kelas hasil prediksi dengan probabilitas tertinggi\n",
        "for i in range(0, 5):\n",
        "  print(label_classes[list_index[i]].ljust(10),':', \n",
        "        round(predictions[0][list_index[i]] * 100, 2),'%')"
      ]
    },
    {
      "cell_type": "markdown",
      "source": [
        "### **Pengujian Model dengan Citra pada Sampel Uji Cifar10**"
      ],
      "metadata": {
        "id": "fhTPuO-j3jcx"
      }
    },
    {
      "cell_type": "markdown",
      "source": [
        "**1. Pengujian data tunggal**"
      ],
      "metadata": {
        "id": "-AYOd0QiaN3q"
      }
    },
    {
      "cell_type": "code",
      "source": [
        "import random\n",
        "# Ambil citra uji secara acak\n",
        "rand_test_index = random.randint(0, len(X_test))\n",
        "rand_test_image = X_test[rand_test_index]\n",
        "rand_test_class = label_classes[y_test[rand_test_index][0]]\n",
        "\n",
        "print('\\nThe random index of the test image is:', rand_test_index)\n",
        "print('The actual class of the test image is:', rand_test_class, '\\n')\n",
        "img = plt.imshow(rand_test_image)"
      ],
      "metadata": {
        "colab": {
          "base_uri": "https://localhost:8080/",
          "height": 353
        },
        "id": "MkBXHcL13jBQ",
        "outputId": "09c9b10a-49d5-4e6e-b830-5fc95fe49517"
      },
      "execution_count": null,
      "outputs": [
        {
          "output_type": "stream",
          "name": "stdout",
          "text": [
            "\n",
            "The random index of the test image is: 2369\n",
            "The actual class of the test image is: automobile \n",
            "\n"
          ]
        },
        {
          "output_type": "display_data",
          "data": {
            "text/plain": [
              "<Figure size 432x288 with 1 Axes>"
            ],
            "image/png": "[encoded data removed]"
          },
          "metadata": {}
        }
      ]
    },
    {
      "cell_type": "markdown",
      "source": [
        "Buat prediksi"
      ],
      "metadata": {
        "id": "rl04SU-5ZlRM"
      }
    },
    {
      "cell_type": "code",
      "source": [
        "rand_test_image = np.reshape(rand_test_image, (1, 32, 32, 3))\n",
        "\n",
        "predictions = model.predict(rand_test_image)"
      ],
      "metadata": {
        "colab": {
          "base_uri": "https://localhost:8080/"
        },
        "id": "MjbU_CqZ8ejw",
        "outputId": "ad1122ad-d629-416f-8159-e446d87a38e8"
      },
      "execution_count": null,
      "outputs": [
        {
          "output_type": "stream",
          "name": "stdout",
          "text": [
            "1/1 [==============================] - 0s 16ms/step\n"
          ]
        }
      ]
    },
    {
      "cell_type": "markdown",
      "source": [
        "Hasil prediksi"
      ],
      "metadata": {
        "id": "qn9D3xYbaCZ9"
      }
    },
    {
      "cell_type": "code",
      "source": [
        "predictions"
      ],
      "metadata": {
        "colab": {
          "base_uri": "https://localhost:8080/"
        },
        "id": "qqR222u5aE-K",
        "outputId": "d7bf867c-38fb-4d5c-ad5b-8ef2ee694bab"
      },
      "execution_count": null,
      "outputs": [
        {
          "output_type": "execute_result",
          "data": {
            "text/plain": [
              "array([[7.4032490e-05, 9.8865497e-01, 7.5540365e-06, 4.5795919e-06,\n",
              "        9.1404672e-07, 2.6581170e-06, 7.5532657e-06, 4.2095397e-07,\n",
              "        6.8714132e-04, 1.0560185e-02]], dtype=float32)"
            ]
          },
          "metadata": {},
          "execution_count": 70
        }
      ]
    },
    {
      "cell_type": "code",
      "source": [
        "# Urutkan probabilitas hasil prediksi dari terbesar ke terkecil\n",
        "list_index = [0,1,2,3,4,5,6,7,8,9]\n",
        "x = predictions\n",
        "\n",
        "for i in range(10):\n",
        "  for j in range(10):\n",
        "    if x[0][list_index[i]] > x[0][list_index[j]]:\n",
        "      temp = list_index[i]\n",
        "      list_index[i] = list_index[j]\n",
        "      list_index[j] = temp\n",
        "\n",
        "print(list_index)"
      ],
      "metadata": {
        "id": "XTEzRwc180Km",
        "colab": {
          "base_uri": "https://localhost:8080/"
        },
        "outputId": "6c532bea-b123-4459-efa3-ba95ec28fd02"
      },
      "execution_count": null,
      "outputs": [
        {
          "output_type": "stream",
          "name": "stdout",
          "text": [
            "[1, 9, 8, 0, 2, 6, 3, 5, 4, 7]\n"
          ]
        }
      ]
    },
    {
      "cell_type": "code",
      "source": [
        "# Tampilkan 5 kelas hasil prediksi dengan probabilitas tertinggi\n",
        "for i in range(0, 5):\n",
        "  print(label_classes[list_index[i]].ljust(10),':', \n",
        "        round(predictions[0][list_index[i]] * 100, 2),'%')"
      ],
      "metadata": {
        "id": "_Vo8tP8x83Ge",
        "colab": {
          "base_uri": "https://localhost:8080/"
        },
        "outputId": "b3c669b5-8981-4b01-a542-e1c029d589e3"
      },
      "execution_count": null,
      "outputs": [
        {
          "output_type": "stream",
          "name": "stdout",
          "text": [
            "automobile : 98.87 %\n",
            "truck      : 1.06 %\n",
            "ship       : 0.07 %\n",
            "airplane   : 0.01 %\n",
            "bird       : 0.0 %\n"
          ]
        }
      ]
    },
    {
      "cell_type": "markdown",
      "source": [
        "**2. Pengujian seluruh data uji**"
      ],
      "metadata": {
        "id": "7QPQoJH9dr1E"
      }
    },
    {
      "cell_type": "markdown",
      "source": [
        "Buat prediksi"
      ],
      "metadata": {
        "id": "vhIMqrhCe9v9"
      }
    },
    {
      "cell_type": "code",
      "source": [
        "predictions = model.predict(X_test)"
      ],
      "metadata": {
        "colab": {
          "base_uri": "https://localhost:8080/"
        },
        "id": "xZwc-KLKdrKF",
        "outputId": "3302561b-d9c2-4f18-b4a8-109e586d4136"
      },
      "execution_count": null,
      "outputs": [
        {
          "output_type": "stream",
          "name": "stdout",
          "text": [
            "313/313 [==============================] - 1s 2ms/step\n"
          ]
        }
      ]
    },
    {
      "cell_type": "markdown",
      "source": [
        "Hasil"
      ],
      "metadata": {
        "id": "bwnd8uqoefBS"
      }
    },
    {
      "cell_type": "code",
      "source": [
        "# Untuk setiap satu hasil prediksi, ambil label prediksi pada indeks\n",
        "# berkesesuaian yang memiliki probabilitas tertinggi\n",
        "y_predict = []\n",
        "for probabilities in predictions:\n",
        "  y_predict.append(np.argmax(probabilities))"
      ],
      "metadata": {
        "id": "3Sw0qAcCfvBd"
      },
      "execution_count": null,
      "outputs": []
    },
    {
      "cell_type": "code",
      "source": [
        "from sklearn import metrics as mr\n",
        "\n",
        "print('Number of test images:', len(X_test))\n",
        "print('\\nConfusion matrix:\\n', mr.confusion_matrix(y_test, y_predict))\n",
        "print('\\nClassification report:\\n',\n",
        "      mr.classification_report(y_test, y_predict))"
      ],
      "metadata": {
        "colab": {
          "base_uri": "https://localhost:8080/"
        },
        "id": "kyoHpnhJeZw4",
        "outputId": "6cbe18fa-52c0-4796-b171-67d7ed97d7bc"
      },
      "execution_count": null,
      "outputs": [
        {
          "output_type": "stream",
          "name": "stdout",
          "text": [
            "Number of test images: 10000\n",
            "\n",
            "Confusion matrix:\n",
            " [[751  32  43   6  17   9   8   7  97  30]\n",
            " [ 21 870   4   5   4   4   8   4  32  48]\n",
            " [ 82  13 516  46 149  86  37  33  29   9]\n",
            " [ 37  23  67 325 130 263  52  43  31  29]\n",
            " [ 42   9  56  25 728  38  14  65  20   3]\n",
            " [ 23   9  50  85  93 622  17  71  18  12]\n",
            " [  7  16  50  40 163  38 645  12  11  18]\n",
            " [ 23   7  27  15  90  62   4 747   6  19]\n",
            " [ 68  43  11   7   7  12   1   2 832  17]\n",
            " [ 44 157   8  10   4  10   7  17  51 692]]\n",
            "\n",
            "Classification report:\n",
            "               precision    recall  f1-score   support\n",
            "\n",
            "           0       0.68      0.75      0.72      1000\n",
            "           1       0.74      0.87      0.80      1000\n",
            "           2       0.62      0.52      0.56      1000\n",
            "           3       0.58      0.33      0.42      1000\n",
            "           4       0.53      0.73      0.61      1000\n",
            "           5       0.54      0.62      0.58      1000\n",
            "           6       0.81      0.65      0.72      1000\n",
            "           7       0.75      0.75      0.75      1000\n",
            "           8       0.74      0.83      0.78      1000\n",
            "           9       0.79      0.69      0.74      1000\n",
            "\n",
            "    accuracy                           0.67     10000\n",
            "   macro avg       0.68      0.67      0.67     10000\n",
            "weighted avg       0.68      0.67      0.67     10000\n",
            "\n"
          ]
        }
      ]
    },
    {
      "cell_type": "markdown",
      "metadata": {
        "id": "9GM5wiAP-F7B"
      },
      "source": [
        "***"
      ]
    },
    {
      "cell_type": "markdown",
      "source": [
        "**Simpan Model**"
      ],
      "metadata": {
        "id": "35nrmBNbqMDX"
      }
    },
    {
      "cell_type": "code",
      "execution_count": null,
      "metadata": {
        "id": "zcVWF8Sw-F7D",
        "colab": {
          "base_uri": "https://localhost:8080/"
        },
        "outputId": "e2bd16eb-a4d8-47c0-e25a-56f3e6cbee6c"
      },
      "outputs": [
        {
          "output_type": "stream",
          "name": "stdout",
          "text": [
            "> Isi \"cwd/model\":\n",
            "185314098_cnn_model.h5\n"
          ]
        }
      ],
      "source": [
        "model.save('model/185314098_cnn_model.h5')\n",
        "\n",
        "print('> Isi \"cwd/model\":')\n",
        "for file in os.listdir(os.getcwd()+\"/model\"):\n",
        "    print(file)"
      ]
    }
  ],
  "metadata": {
    "kernelspec": {
      "display_name": "dl-env",
      "language": "python",
      "name": "python3"
    },
    "language_info": {
      "codemirror_mode": {
        "name": "ipython",
        "version": 3
      },
      "file_extension": ".py",
      "mimetype": "text/x-python",
      "name": "python",
      "nbconvert_exporter": "python",
      "pygments_lexer": "ipython3",
      "version": "3.7.13"
    },
    "orig_nbformat": 4,
    "vscode": {
      "interpreter": {
        "hash": "569f9bf8ba764d31ef549e16934d9f64ead24cc28a7443d159eb33bd2698cb95"
      }
    },
    "colab": {
      "provenance": []
    },
    "accelerator": "GPU",
    "gpuClass": "standard"
  },
  "nbformat": 4,
  "nbformat_minor": 0
}