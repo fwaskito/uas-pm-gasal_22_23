{
  "cells": [
    {
      "cell_type": "markdown",
      "metadata": {
        "id": "-s4VwWwA-F3H"
      },
      "source": [
        "- **Project**: UAS Pembelajaran Mesin\n",
        "- **Created**: Sun, 18th Dec 2022 1:15:24 PM\n",
        "- **Author**: F. Waskito\n",
        "- **Reference**: Randerson. (July 12, 2019). Classifiy Images Using Convolutional Neural Network & Python. Medium.com. https://randerson112358.medium.com/classify-images-using-convolutional-neural-networks-python-a89cecc8c679"
      ]
    },
    {
      "cell_type": "markdown",
      "metadata": {
        "id": "-RIahUvx-F3Q"
      },
      "source": [
        "Impor pustaka yang dibutuhkan"
      ]
    },
    {
      "cell_type": "code",
      "execution_count": 1,
      "metadata": {
        "id": "4LZXoIwP-F3V"
      },
      "outputs": [],
      "source": [
        "# Impor pustaka yang dibutuhkan\n",
        "import tensorflow as tf\n",
        "from tensorflow import keras\n",
        "from keras.models import Sequential\n",
        "from keras.layers import Dense, Flatten, Conv2D, MaxPooling2D, Dropout\n",
        "from keras import layers\n",
        "from keras.utils import to_categorical\n",
        "import numpy as np\n",
        "import matplotlib.pyplot as plt\n",
        "import os\n",
        "\n",
        "plt.style.use('fivethirtyeight')"
      ]
    },
    {
      "cell_type": "markdown",
      "metadata": {
        "id": "658xaxOB-F3s"
      },
      "source": [
        "*Outset*"
      ]
    },
    {
      "cell_type": "code",
      "execution_count": 5,
      "metadata": {
        "colab": {
          "base_uri": "https://localhost:8080/",
          "height": 35
        },
        "id": "6Fsb7boy-F3x",
        "outputId": "d7d0061f-afa8-48b4-c2ce-9992b4dacee4"
      },
      "outputs": [
        {
          "output_type": "execute_result",
          "data": {
            "text/plain": [
              "'/content'"
            ],
            "application/vnd.google.colaboratory.intrinsic+json": {
              "type": "string"
            }
          },
          "metadata": {},
          "execution_count": 5
        }
      ],
      "source": [
        "# Current working directori\n",
        "os.getcwd()"
      ]
    },
    {
      "cell_type": "code",
      "execution_count": 7,
      "metadata": {
        "id": "7w5cP-gy-F34"
      },
      "outputs": [],
      "source": [
        "# Tensorflow flag (membiarkan *warning* pada non-GPU device, jika kode dijalankan pada IDE lokal)\n",
        "os.environ['TF_CPP_MIN_LOG_LEVEL'] = '2'"
      ]
    },
    {
      "cell_type": "markdown",
      "metadata": {
        "id": "NOTzIy8m-F3-"
      },
      "source": [
        "*Load data*"
      ]
    },
    {
      "cell_type": "code",
      "execution_count": 6,
      "metadata": {
        "colab": {
          "base_uri": "https://localhost:8080/"
        },
        "id": "HxVU_XZd-F4J",
        "outputId": "2e3ee90a-1c54-4828-d135-9f0e3b63593b"
      },
      "outputs": [
        {
          "output_type": "stream",
          "name": "stdout",
          "text": [
            "Downloading data from https://www.cs.toronto.edu/~kriz/cifar-10-python.tar.gz\n",
            "170498071/170498071 [==============================] - 13s 0us/step\n"
          ]
        }
      ],
      "source": [
        "from keras.datasets import cifar10\n",
        "# Sumber data (cifar10) telah diseparasi mejadi sampel latih dan uji\n",
        "(X_train, y_train), (X_test, y_test) = cifar10.load_data()"
      ]
    },
    {
      "cell_type": "markdown",
      "metadata": {
        "id": "bD7O4jYc-F5L"
      },
      "source": [
        "#### **Analisis Data**"
      ]
    },
    {
      "cell_type": "markdown",
      "metadata": {
        "id": "e-pkt7Mo-F5Q"
      },
      "source": [
        "Menampilkan tipe data dari sampel latih dan uji"
      ]
    },
    {
      "cell_type": "code",
      "execution_count": 8,
      "metadata": {
        "colab": {
          "base_uri": "https://localhost:8080/"
        },
        "id": "NkWuboEd-F5T",
        "outputId": "b7d46ebe-2aa2-4fbe-cd2e-7e614938901e"
      },
      "outputs": [
        {
          "output_type": "stream",
          "name": "stdout",
          "text": [
            "<class 'numpy.ndarray'>\n",
            "<class 'numpy.ndarray'>\n",
            "<class 'numpy.ndarray'>\n",
            "<class 'numpy.ndarray'>\n"
          ]
        }
      ],
      "source": [
        "print(type(X_train))\n",
        "print(type(y_train))\n",
        "print(type(X_test))\n",
        "print(type(y_test))"
      ]
    },
    {
      "cell_type": "markdown",
      "metadata": {
        "id": "84RRG8LO-F5a"
      },
      "source": [
        "Menampilkan dimensi dari sampel latih dan uji"
      ]
    },
    {
      "cell_type": "code",
      "execution_count": 9,
      "metadata": {
        "colab": {
          "base_uri": "https://localhost:8080/"
        },
        "id": "N16c2ubx-F5c",
        "outputId": "66c27565-2c9e-4ddd-9a31-2c06199396b7"
      },
      "outputs": [
        {
          "output_type": "stream",
          "name": "stdout",
          "text": [
            "X_train shape: (50000, 32, 32, 3)\n",
            "y_train shape: (50000, 1)\n",
            "X_test shape: (10000, 32, 32, 3)\n",
            "y_test shape: (10000, 1)\n"
          ]
        }
      ],
      "source": [
        "print('X_train shape:', X_train.shape)\n",
        "print('y_train shape:', y_train.shape)\n",
        "print('X_test shape:', X_test.shape)\n",
        "print('y_test shape:', y_test.shape)"
      ]
    },
    {
      "cell_type": "markdown",
      "metadata": {
        "id": "4Klkmux5-F5e"
      },
      "source": [
        "Menelusuri salah satu citra"
      ]
    },
    {
      "cell_type": "code",
      "execution_count": 10,
      "metadata": {
        "colab": {
          "base_uri": "https://localhost:8080/"
        },
        "id": "3meSJBd3-F5g",
        "outputId": "9d8e12eb-ca21-438b-a169-0aaa8864796a"
      },
      "outputs": [
        {
          "output_type": "execute_result",
          "data": {
            "text/plain": [
              "array([[[ 59,  62,  63],\n",
              "        [ 43,  46,  45],\n",
              "        [ 50,  48,  43],\n",
              "        ...,\n",
              "        [158, 132, 108],\n",
              "        [152, 125, 102],\n",
              "        [148, 124, 103]],\n",
              "\n",
              "       [[ 16,  20,  20],\n",
              "        [  0,   0,   0],\n",
              "        [ 18,   8,   0],\n",
              "        ...,\n",
              "        [123,  88,  55],\n",
              "        [119,  83,  50],\n",
              "        [122,  87,  57]],\n",
              "\n",
              "       [[ 25,  24,  21],\n",
              "        [ 16,   7,   0],\n",
              "        [ 49,  27,   8],\n",
              "        ...,\n",
              "        [118,  84,  50],\n",
              "        [120,  84,  50],\n",
              "        [109,  73,  42]],\n",
              "\n",
              "       ...,\n",
              "\n",
              "       [[208, 170,  96],\n",
              "        [201, 153,  34],\n",
              "        [198, 161,  26],\n",
              "        ...,\n",
              "        [160, 133,  70],\n",
              "        [ 56,  31,   7],\n",
              "        [ 53,  34,  20]],\n",
              "\n",
              "       [[180, 139,  96],\n",
              "        [173, 123,  42],\n",
              "        [186, 144,  30],\n",
              "        ...,\n",
              "        [184, 148,  94],\n",
              "        [ 97,  62,  34],\n",
              "        [ 83,  53,  34]],\n",
              "\n",
              "       [[177, 144, 116],\n",
              "        [168, 129,  94],\n",
              "        [179, 142,  87],\n",
              "        ...,\n",
              "        [216, 184, 140],\n",
              "        [151, 118,  84],\n",
              "        [123,  92,  72]]], dtype=uint8)"
            ]
          },
          "metadata": {},
          "execution_count": 10
        }
      ],
      "source": [
        "index = 0\n",
        "X_train[index]  # citra urutan pertama (indek ke-0) pada sampel latih"
      ]
    },
    {
      "cell_type": "code",
      "execution_count": 11,
      "metadata": {
        "colab": {
          "base_uri": "https://localhost:8080/",
          "height": 284
        },
        "id": "9oSRK4ld-F5h",
        "outputId": "74cea07a-337e-4247-959d-8284f760f32d"
      },
      "outputs": [
        {
          "output_type": "display_data",
          "data": {
            "text/plain": [
              "<Figure size 432x288 with 1 Axes>"
            ],
            "image/png": "[encoded data removed]"
          },
          "metadata": {}
        }
      ],
      "source": [
        "# Menampilkan citra secara visual\n",
        "img = plt.imshow(X_train[index])"
      ]
    },
    {
      "cell_type": "code",
      "execution_count": 12,
      "metadata": {
        "colab": {
          "base_uri": "https://localhost:8080/"
        },
        "id": "7lBunuj9-F5j",
        "outputId": "a140ab53-b176-48ca-c2d4-a7cb806e9e33"
      },
      "outputs": [
        {
          "output_type": "stream",
          "name": "stdout",
          "text": [
            "The image label is:  [6]\n"
          ]
        }
      ],
      "source": [
        "# Mengetahui default label (bertipe kategorik-numerik) dari citra\n",
        "print('The image label is: ', y_train[index])"
      ]
    },
    {
      "cell_type": "code",
      "execution_count": 13,
      "metadata": {
        "colab": {
          "base_uri": "https://localhost:8080/"
        },
        "id": "6LmBimg1-F5p",
        "outputId": "91affe88-ef2e-4f47-f9a0-29707c026588"
      },
      "outputs": [
        {
          "output_type": "stream",
          "name": "stdout",
          "text": [
            "Number  Label\n",
            "-------------------------\n",
            "0       airplane\n",
            "1       automobile\n",
            "2       bird \n",
            "3       cat  \n",
            "4       deer \n",
            "5       dog  \n",
            "6       frog \n",
            "7       horse\n",
            "8       ship \n",
            "9       truck\n"
          ]
        }
      ],
      "source": [
        "# Buat representasi label (kategorik-string)\n",
        "label_classes = ['airplane', 'automobile', 'bird', 'cat', 'deer', \n",
        "                'dog', 'frog', 'horse', 'ship', 'truck']\n",
        "\n",
        "print('Number ', 'Label')\n",
        "print('-------------------------')\n",
        "for i in range(len(label_classes)):\n",
        "    print(str(i).ljust(7), str(label_classes[i]).ljust(5))"
      ]
    },
    {
      "cell_type": "code",
      "execution_count": 14,
      "metadata": {
        "colab": {
          "base_uri": "https://localhost:8080/"
        },
        "id": "i-Qj8Fsf-F5s",
        "outputId": "5c533318-5771-4153-c4b0-fa8f81b1d5da"
      },
      "outputs": [
        {
          "output_type": "stream",
          "name": "stdout",
          "text": [
            "The image class is:  frog\n"
          ]
        }
      ],
      "source": [
        "# Tampilkan label dari citra sebelumnya\n",
        "print('The image class is: ', label_classes[y_train[index][0]])"
      ]
    },
    {
      "cell_type": "markdown",
      "metadata": {
        "id": "oqzPEXvb-F5u"
      },
      "source": [
        "#### **Praprosess**"
      ]
    },
    {
      "cell_type": "markdown",
      "metadata": {
        "id": "1-qzQ7iA-F5w"
      },
      "source": [
        "***Label encoding* (dengan *one-hot encoding*)**"
      ]
    },
    {
      "cell_type": "code",
      "execution_count": 15,
      "metadata": {
        "id": "vxNtHcwk-F5x"
      },
      "outputs": [],
      "source": [
        "y_train_one_hot = to_categorical(y_train)\n",
        "y_test_one_hot = to_categorical(y_test)"
      ]
    },
    {
      "cell_type": "code",
      "execution_count": 16,
      "metadata": {
        "colab": {
          "base_uri": "https://localhost:8080/"
        },
        "id": "q2Jggf1j-F5y",
        "outputId": "caffbcdf-7d84-4791-f988-bb32aab15620"
      },
      "outputs": [
        {
          "output_type": "stream",
          "name": "stdout",
          "text": [
            "[[0. 0. 0. ... 0. 0. 0.]\n",
            " [0. 0. 0. ... 0. 0. 1.]\n",
            " [0. 0. 0. ... 0. 0. 1.]\n",
            " ...\n",
            " [0. 0. 0. ... 0. 0. 1.]\n",
            " [0. 1. 0. ... 0. 0. 0.]\n",
            " [0. 1. 0. ... 0. 0. 0.]]\n"
          ]
        }
      ],
      "source": [
        "# Hasil encoding pada label sampel latih\n",
        "print(y_train_one_hot)"
      ]
    },
    {
      "cell_type": "code",
      "execution_count": 17,
      "metadata": {
        "colab": {
          "base_uri": "https://localhost:8080/"
        },
        "id": "hoPwyBba-F5z",
        "outputId": "45775b46-b18e-4d5d-aaac-f77495a721e5"
      },
      "outputs": [
        {
          "output_type": "stream",
          "name": "stdout",
          "text": [
            "[[0. 0. 0. ... 0. 0. 0.]\n",
            " [0. 0. 0. ... 0. 1. 0.]\n",
            " [0. 0. 0. ... 0. 1. 0.]\n",
            " ...\n",
            " [0. 0. 0. ... 0. 0. 0.]\n",
            " [0. 1. 0. ... 0. 0. 0.]\n",
            " [0. 0. 0. ... 1. 0. 0.]]\n"
          ]
        }
      ],
      "source": [
        "# Hasil encoding pada label sampel uji\n",
        "print(y_test_one_hot)"
      ]
    },
    {
      "cell_type": "code",
      "execution_count": 18,
      "metadata": {
        "colab": {
          "base_uri": "https://localhost:8080/"
        },
        "id": "PdziM0tl-F55",
        "outputId": "ca7d57b2-ba2c-4647-986e-1d432ecd0ceb"
      },
      "outputs": [
        {
          "output_type": "stream",
          "name": "stdout",
          "text": [
            "The one-hot label is:  [0. 0. 0. 0. 0. 0. 1. 0. 0. 0.]\n"
          ]
        }
      ],
      "source": [
        "# Menampilkan hasil encoding dari salah satu citra pada sampel latih\n",
        "print('The one-hot label is: ', y_train_one_hot[0])"
      ]
    },
    {
      "cell_type": "markdown",
      "metadata": {
        "id": "YhWFynJp-F56"
      },
      "source": [
        "**Normalisasi Citra**"
      ]
    },
    {
      "cell_type": "code",
      "execution_count": 19,
      "metadata": {
        "id": "bxlELA6--F57"
      },
      "outputs": [],
      "source": [
        "X_train = X_train / 255     # sample latih\n",
        "X_test = X_test / 255       # sampel uji"
      ]
    },
    {
      "cell_type": "markdown",
      "metadata": {
        "id": "nMN3N8hJ-F5-"
      },
      "source": [
        "#### **Pemodelan**"
      ]
    },
    {
      "cell_type": "markdown",
      "metadata": {
        "id": "MgE-eJxG-F5-"
      },
      "source": [
        "**Bangun arsitektur model *Convolutional Neural Network***\n",
        "\n",
        "\n"
      ]
    },
    {
      "cell_type": "code",
      "execution_count": 165,
      "metadata": {
        "id": "ugon0JQ6-F5_"
      },
      "outputs": [],
      "source": [
        "model = Sequential()\n",
        "# Convolutional and pooling layers\n",
        "model.add(Conv2D(32, (5, 5), activation='relu', input_shape=(32, 32, 3)))\n",
        "model.add(MaxPooling2D(pool_size=(2, 2)))\n",
        "model.add(Conv2D(64, (5, 5), activation='relu'))\n",
        "model.add(MaxPooling2D(pool_size=(2, 2)))\n",
        "model.add(Flatten())\n",
        "# Neural Nets and dropout layers\n",
        "model.add(Dense(1000, activation='relu'))\n",
        "model.add(Dropout(0.5))\n",
        "model.add(Dense(500, activation='relu'))\n",
        "model.add(Dropout(0.5))\n",
        "model.add(Dense(250, activation='relu'))\n",
        "model.add(Dense(150, activation='relu'))\n",
        "model.add(Dense(10, activation='softmax'))"
      ]
    },
    {
      "cell_type": "markdown",
      "metadata": {
        "id": "z6bqlhs7-F6D"
      },
      "source": [
        "**Kompilasi model**"
      ]
    },
    {
      "cell_type": "code",
      "execution_count": 166,
      "metadata": {
        "id": "0hCORjQR-F6F"
      },
      "outputs": [],
      "source": [
        "model.compile(loss='categorical_crossentropy',\n",
        "              optimizer='adam',\n",
        "              metrics=['accuracy'])"
      ]
    },
    {
      "cell_type": "markdown",
      "metadata": {
        "id": "-tKv49O0-F6O"
      },
      "source": [
        "#### **Pelatihan Model**"
      ]
    },
    {
      "cell_type": "code",
      "execution_count": 167,
      "metadata": {
        "colab": {
          "base_uri": "https://localhost:8080/"
        },
        "id": "Vl-d-Jb1-F6Q",
        "outputId": "87769f3d-9cd0-472b-f0b4-2bfa72d241e4"
      },
      "outputs": [
        {
          "output_type": "stream",
          "name": "stdout",
          "text": [
            "Epoch 1/10\n",
            "157/157 [==============================] - 3s 15ms/step - loss: 1.8524 - accuracy: 0.2918 - val_loss: 1.4843 - val_accuracy: 0.4525\n",
            "Epoch 2/10\n",
            "157/157 [==============================] - 2s 13ms/step - loss: 1.4264 - accuracy: 0.4744 - val_loss: 1.2541 - val_accuracy: 0.5458\n",
            "Epoch 3/10\n",
            "157/157 [==============================] - 2s 14ms/step - loss: 1.2542 - accuracy: 0.5466 - val_loss: 1.2165 - val_accuracy: 0.5578\n",
            "Epoch 4/10\n",
            "157/157 [==============================] - 2s 13ms/step - loss: 1.1215 - accuracy: 0.5982 - val_loss: 1.0459 - val_accuracy: 0.6289\n",
            "Epoch 5/10\n",
            "157/157 [==============================] - 2s 12ms/step - loss: 1.0330 - accuracy: 0.6327 - val_loss: 1.0077 - val_accuracy: 0.6445\n",
            "Epoch 6/10\n",
            "157/157 [==============================] - 2s 12ms/step - loss: 0.9420 - accuracy: 0.6662 - val_loss: 0.9807 - val_accuracy: 0.6548\n",
            "Epoch 7/10\n",
            "157/157 [==============================] - 2s 13ms/step - loss: 0.8701 - accuracy: 0.6905 - val_loss: 0.9606 - val_accuracy: 0.6653\n",
            "Epoch 8/10\n",
            "157/157 [==============================] - 2s 12ms/step - loss: 0.8006 - accuracy: 0.7185 - val_loss: 0.9231 - val_accuracy: 0.6832\n",
            "Epoch 9/10\n",
            "157/157 [==============================] - 2s 12ms/step - loss: 0.7513 - accuracy: 0.7358 - val_loss: 0.9144 - val_accuracy: 0.6857\n",
            "Epoch 10/10\n",
            "157/157 [==============================] - 2s 12ms/step - loss: 0.6724 - accuracy: 0.7641 - val_loss: 0.8840 - val_accuracy: 0.7017\n"
          ]
        }
      ],
      "source": [
        "hist = model.fit(X_train, y_train_one_hot,\n",
        "                 batch_size=256, \n",
        "                 epochs=10, \n",
        "                 validation_split=0.2)"
      ]
    },
    {
      "cell_type": "code",
      "execution_count": 168,
      "metadata": {
        "colab": {
          "base_uri": "https://localhost:8080/"
        },
        "id": "ZaL3lHsr-F6U",
        "outputId": "065944ae-e112-486e-b424-dd0903253694"
      },
      "outputs": [
        {
          "output_type": "stream",
          "name": "stdout",
          "text": [
            "313/313 [==============================] - 1s 3ms/step - loss: 0.8998 - accuracy: 0.6915\n"
          ]
        },
        {
          "output_type": "execute_result",
          "data": {
            "text/plain": [
              "0.6915000081062317"
            ]
          },
          "metadata": {},
          "execution_count": 168
        }
      ],
      "source": [
        "# Evaluasi hasil pelatihan model\n",
        "model.evaluate(X_test, y_test_one_hot)[1]"
      ]
    },
    {
      "cell_type": "code",
      "execution_count": 169,
      "metadata": {
        "colab": {
          "base_uri": "https://localhost:8080/",
          "height": 325
        },
        "id": "vnoQ4AKb-F6X",
        "outputId": "fa22b577-1f35-4ce1-e90f-c2cee882f105"
      },
      "outputs": [
        {
          "output_type": "display_data",
          "data": {
            "text/plain": [
              "<Figure size 432x288 with 1 Axes>"
            ],
            "image/png": "[encoded data removed]"
          },
          "metadata": {}
        }
      ],
      "source": [
        "# Memvisualisasikan akurasi dari model\n",
        "plt.plot(hist.history['accuracy'])\n",
        "plt.plot(hist.history['val_accuracy'])\n",
        "plt.title('Model Accuracy')\n",
        "plt.ylabel('Accuracy')\n",
        "plt.xlabel('Epoch')\n",
        "plt.legend(['Train', 'Val'], loc='upper left')\n",
        "plt.show()"
      ]
    },
    {
      "cell_type": "code",
      "execution_count": 170,
      "metadata": {
        "colab": {
          "base_uri": "https://localhost:8080/",
          "height": 325
        },
        "id": "1AUQUEvr-F6c",
        "outputId": "3b5b932a-bfbc-4812-f71a-5ef8afbf5d9f"
      },
      "outputs": [
        {
          "output_type": "display_data",
          "data": {
            "text/plain": [
              "<Figure size 432x288 with 1 Axes>"
            ],
            "image/png": "[encoded data removed]"
          },
          "metadata": {}
        }
      ],
      "source": [
        "# Memvisualisasikan kerugian (loss) dari model\n",
        "plt.plot(hist.history['loss'])\n",
        "plt.plot(hist.history['val_loss'])\n",
        "plt.title('Model Loss')\n",
        "plt.ylabel('Loss')\n",
        "plt.xlabel('Epoch')\n",
        "plt.legend(['Train', 'Val'], loc='upper right')\n",
        "plt.show()"
      ]
    },
    {
      "cell_type": "markdown",
      "metadata": {
        "id": "II1PoHSg-F6f"
      },
      "source": [
        "#### **Pengujian Model**"
      ]
    },
    {
      "cell_type": "markdown",
      "metadata": {
        "id": "MbDfZhcP-F6g"
      },
      "source": [
        "**Unggah citra**"
      ]
    },
    {
      "cell_type": "code",
      "execution_count": 171,
      "metadata": {
        "colab": {
          "base_uri": "https://localhost:8080/",
          "height": 110
        },
        "id": "kOee576B-F6h",
        "outputId": "5099fc35-e351-4be8-b1ab-54265fdf7f8a"
      },
      "outputs": [
        {
          "output_type": "display_data",
          "data": {
            "text/plain": [
              "<IPython.core.display.HTML object>"
            ],
            "text/html": [
              "\n",
              "     <input type=\"file\" id=\"files-ea7d7149-06e9-4136-b0a1-a3b1c1eefe3f\" name=\"files[]\" multiple disabled\n",
              "        style=\"border:none\" />\n",
              "     <output id=\"result-ea7d7149-06e9-4136-b0a1-a3b1c1eefe3f\">\n",
              "      Upload widget is only available when the cell has been executed in the\n",
              "      current browser session. Please rerun this cell to enable.\n",
              "      </output>\n",
              "      <script>// Copyright 2017 Google LLC\n",
              "//\n",
              "// Licensed under the Apache License, Version 2.0 (the \"License\");\n",
              "// you may not use this file except in compliance with the License.\n",
              "// You may obtain a copy of the License at\n",
              "//\n",
              "//      http://www.apache.org/licenses/LICENSE-2.0\n",
              "//\n",
              "// Unless required by applicable law or agreed to in writing, software\n",
              "// distributed under the License is distributed on an \"AS IS\" BASIS,\n",
              "// WITHOUT WARRANTIES OR CONDITIONS OF ANY KIND, either express or implied.\n",
              "// See the License for the specific language governing permissions and\n",
              "// limitations under the License.\n",
              "\n",
              "/**\n",
              " * @fileoverview Helpers for google.colab Python module.\n",
              " */\n",
              "(function(scope) {\n",
              "function span(text, styleAttributes = {}) {\n",
              "  const element = document.createElement('span');\n",
              "  element.textContent = text;\n",
              "  for (const key of Object.keys(styleAttributes)) {\n",
              "    element.style[key] = styleAttributes[key];\n",
              "  }\n",
              "  return element;\n",
              "}\n",
              "\n",
              "// Max number of bytes which will be uploaded at a time.\n",
              "const MAX_PAYLOAD_SIZE = 100 * 1024;\n",
              "\n",
              "function _uploadFiles(inputId, outputId) {\n",
              "  const steps = uploadFilesStep(inputId, outputId);\n",
              "  const outputElement = document.getElementById(outputId);\n",
              "  // Cache steps on the outputElement to make it available for the next call\n",
              "  // to uploadFilesContinue from Python.\n",
              "  outputElement.steps = steps;\n",
              "\n",
              "  return _uploadFilesContinue(outputId);\n",
              "}\n",
              "\n",
              "// This is roughly an async generator (not supported in the browser yet),\n",
              "// where there are multiple asynchronous steps and the Python side is going\n",
              "// to poll for completion of each step.\n",
              "// This uses a Promise to block the python side on completion of each step,\n",
              "// then passes the result of the previous step as the input to the next step.\n",
              "function _uploadFilesContinue(outputId) {\n",
              "  const outputElement = document.getElementById(outputId);\n",
              "  const steps = outputElement.steps;\n",
              "\n",
              "  const next = steps.next(outputElement.lastPromiseValue);\n",
              "  return Promise.resolve(next.value.promise).then((value) => {\n",
              "    // Cache the last promise value to make it available to the next\n",
              "    // step of the generator.\n",
              "    outputElement.lastPromiseValue = value;\n",
              "    return next.value.response;\n",
              "  });\n",
              "}\n",
              "\n",
              "/**\n",
              " * Generator function which is called between each async step of the upload\n",
              " * process.\n",
              " * @param {string} inputId Element ID of the input file picker element.\n",
              " * @param {string} outputId Element ID of the output display.\n",
              " * @return {!Iterable<!Object>} Iterable of next steps.\n",
              " */\n",
              "function* uploadFilesStep(inputId, outputId) {\n",
              "  const inputElement = document.getElementById(inputId);\n",
              "  inputElement.disabled = false;\n",
              "\n",
              "  const outputElement = document.getElementById(outputId);\n",
              "  outputElement.innerHTML = '';\n",
              "\n",
              "  const pickedPromise = new Promise((resolve) => {\n",
              "    inputElement.addEventListener('change', (e) => {\n",
              "      resolve(e.target.files);\n",
              "    });\n",
              "  });\n",
              "\n",
              "  const cancel = document.createElement('button');\n",
              "  inputElement.parentElement.appendChild(cancel);\n",
              "  cancel.textContent = 'Cancel upload';\n",
              "  const cancelPromise = new Promise((resolve) => {\n",
              "    cancel.onclick = () => {\n",
              "      resolve(null);\n",
              "    };\n",
              "  });\n",
              "\n",
              "  // Wait for the user to pick the files.\n",
              "  const files = yield {\n",
              "    promise: Promise.race([pickedPromise, cancelPromise]),\n",
              "    response: {\n",
              "      action: 'starting',\n",
              "    }\n",
              "  };\n",
              "\n",
              "  cancel.remove();\n",
              "\n",
              "  // Disable the input element since further picks are not allowed.\n",
              "  inputElement.disabled = true;\n",
              "\n",
              "  if (!files) {\n",
              "    return {\n",
              "      response: {\n",
              "        action: 'complete',\n",
              "      }\n",
              "    };\n",
              "  }\n",
              "\n",
              "  for (const file of files) {\n",
              "    const li = document.createElement('li');\n",
              "    li.append(span(file.name, {fontWeight: 'bold'}));\n",
              "    li.append(span(\n",
              "        `(${file.type || 'n/a'}) - ${file.size} bytes, ` +\n",
              "        `last modified: ${\n",
              "            file.lastModifiedDate ? file.lastModifiedDate.toLocaleDateString() :\n",
              "                                    'n/a'} - `));\n",
              "    const percent = span('0% done');\n",
              "    li.appendChild(percent);\n",
              "\n",
              "    outputElement.appendChild(li);\n",
              "\n",
              "    const fileDataPromise = new Promise((resolve) => {\n",
              "      const reader = new FileReader();\n",
              "      reader.onload = (e) => {\n",
              "        resolve(e.target.result);\n",
              "      };\n",
              "      reader.readAsArrayBuffer(file);\n",
              "    });\n",
              "    // Wait for the data to be ready.\n",
              "    let fileData = yield {\n",
              "      promise: fileDataPromise,\n",
              "      response: {\n",
              "        action: 'continue',\n",
              "      }\n",
              "    };\n",
              "\n",
              "    // Use a chunked sending to avoid message size limits. See b/62115660.\n",
              "    let position = 0;\n",
              "    do {\n",
              "      const length = Math.min(fileData.byteLength - position, MAX_PAYLOAD_SIZE);\n",
              "      const chunk = new Uint8Array(fileData, position, length);\n",
              "      position += length;\n",
              "\n",
              "      const base64 = btoa(String.fromCharCode.apply(null, chunk));\n",
              "      yield {\n",
              "        response: {\n",
              "          action: 'append',\n",
              "          file: file.name,\n",
              "          data: base64,\n",
              "        },\n",
              "      };\n",
              "\n",
              "      let percentDone = fileData.byteLength === 0 ?\n",
              "          100 :\n",
              "          Math.round((position / fileData.byteLength) * 100);\n",
              "      percent.textContent = `${percentDone}% done`;\n",
              "\n",
              "    } while (position < fileData.byteLength);\n",
              "  }\n",
              "\n",
              "  // All done.\n",
              "  yield {\n",
              "    response: {\n",
              "      action: 'complete',\n",
              "    }\n",
              "  };\n",
              "}\n",
              "\n",
              "scope.google = scope.google || {};\n",
              "scope.google.colab = scope.google.colab || {};\n",
              "scope.google.colab._files = {\n",
              "  _uploadFiles,\n",
              "  _uploadFilesContinue,\n",
              "};\n",
              "})(self);\n",
              "</script> "
            ]
          },
          "metadata": {}
        },
        {
          "output_type": "stream",
          "name": "stdout",
          "text": [
            "Saving dog.4001.jpg to dog.4001 (1).jpg\n",
            "\n",
            "Name of the image file:  dog.4001.jpg\n"
          ]
        }
      ],
      "source": [
        "# Asumsinya citra uji diunggah pada Google Colab\n",
        "from google.colab import files\n",
        "uploaded = files.upload()\n",
        "file_name = list(uploaded.keys())[0]\n",
        "print('\\nName of the image file: ',file_name)\n",
        "\n",
        "# Membaca citra (3, 14, 20)\n",
        "new_image = plt.imread(file_name)"
      ]
    },
    {
      "cell_type": "markdown",
      "metadata": {
        "id": "1puLSSxE-F6j"
      },
      "source": [
        "**Tampilkan citra unggahan**"
      ]
    },
    {
      "cell_type": "code",
      "execution_count": 172,
      "metadata": {
        "colab": {
          "base_uri": "https://localhost:8080/",
          "height": 287
        },
        "id": "ufzd0dwG-F6p",
        "outputId": "562eb367-6a80-4568-c068-bde65689f07f"
      },
      "outputs": [
        {
          "output_type": "display_data",
          "data": {
            "text/plain": [
              "<Figure size 432x288 with 1 Axes>"
            ],
            "image/png": "[encoded data removed]"
          },
          "metadata": {}
        }
      ],
      "source": [
        "img = plt.imshow(new_image)"
      ]
    },
    {
      "cell_type": "markdown",
      "metadata": {
        "id": "hs4aIH3d-F6r"
      },
      "source": [
        "**Ubah ukuran citra**"
      ]
    },
    {
      "cell_type": "code",
      "execution_count": 173,
      "metadata": {
        "id": "4mTmLsKD-F6x"
      },
      "outputs": [],
      "source": [
        "# Transformasi ukuran (shape) citra dilakukan untuk \n",
        "# menyesuaikan input layer pada model\n",
        "from skimage.transform import resize\n",
        "resized_image = resize(new_image, (32, 32, 3))"
      ]
    },
    {
      "cell_type": "markdown",
      "metadata": {
        "id": "2JZHMtje-F6z"
      },
      "source": [
        "**Buat prediksi**"
      ]
    },
    {
      "cell_type": "code",
      "execution_count": 174,
      "metadata": {
        "colab": {
          "base_uri": "https://localhost:8080/"
        },
        "id": "zriNo-ZJ-F62",
        "outputId": "90a01ba7-fa3d-4efc-ce57-84a5e62f4eb8"
      },
      "outputs": [
        {
          "output_type": "stream",
          "name": "stdout",
          "text": [
            "1/1 [==============================] - 0s 76ms/step\n"
          ]
        }
      ],
      "source": [
        "predictions = model.predict(np.array([resized_image]))"
      ]
    },
    {
      "cell_type": "code",
      "execution_count": 175,
      "metadata": {
        "colab": {
          "base_uri": "https://localhost:8080/"
        },
        "id": "MUsu9sR5-F64",
        "outputId": "34967005-0ce7-4dd8-a6d3-26d56d565ca0"
      },
      "outputs": [
        {
          "output_type": "execute_result",
          "data": {
            "text/plain": [
              "array([[0.02415213, 0.00049389, 0.08665659, 0.22174262, 0.05115599,\n",
              "        0.45559052, 0.00124027, 0.15116528, 0.00631147, 0.00149124]],\n",
              "      dtype=float32)"
            ]
          },
          "metadata": {},
          "execution_count": 175
        }
      ],
      "source": [
        "# Tampilkan hasil prediksi\n",
        "predictions"
      ]
    },
    {
      "cell_type": "markdown",
      "metadata": {
        "id": "LcJZhR7L-F65"
      },
      "source": [
        "**Hasil Prediksi**"
      ]
    },
    {
      "cell_type": "code",
      "execution_count": 176,
      "metadata": {
        "colab": {
          "base_uri": "https://localhost:8080/"
        },
        "id": "SPFRkpY9-F68",
        "outputId": "14348022-8b31-45bf-ac9f-bd3dc5517003"
      },
      "outputs": [
        {
          "output_type": "stream",
          "name": "stdout",
          "text": [
            "[5, 3, 7, 2, 4, 0, 8, 9, 6, 1]\n"
          ]
        }
      ],
      "source": [
        "# Urutkan probabilitas hasil prediksi terhadap kelas\n",
        "list_index = [0,1,2,3,4,5,6,7,8,9]\n",
        "\n",
        "x = predictions\n",
        "\n",
        "for i in range(10):\n",
        "  for j in range(10):\n",
        "    if x[0][list_index[i]] > x[0][list_index[j]]:\n",
        "      temp = list_index[i]\n",
        "      list_index[i] = list_index[j]\n",
        "      list_index[j] = temp\n",
        "\n",
        "print(list_index)"
      ]
    },
    {
      "cell_type": "code",
      "execution_count": 177,
      "metadata": {
        "colab": {
          "base_uri": "https://localhost:8080/"
        },
        "id": "bmpK3n2N-F7A",
        "outputId": "87bf663c-5f17-481d-829b-01f00fe72001"
      },
      "outputs": [
        {
          "output_type": "stream",
          "name": "stdout",
          "text": [
            "dog : 45.56 %\n",
            "cat : 22.17 %\n",
            "horse : 15.12 %\n",
            "bird : 8.67 %\n",
            "deer : 5.12 %\n"
          ]
        }
      ],
      "source": [
        "# Tampilkan 5 kelas dengan probabilitas teratas dari hasil prediksi\n",
        "i = 0\n",
        "for i in range(5):\n",
        "  print(label_classes[list_index[i]],\n",
        "        ':', \n",
        "        round(predictions[0][list_index[i]] * 100, 2),\n",
        "        '%')"
      ]
    },
    {
      "cell_type": "markdown",
      "metadata": {
        "id": "9GM5wiAP-F7B"
      },
      "source": [
        "***"
      ]
    },
    {
      "cell_type": "code",
      "execution_count": 178,
      "metadata": {
        "colab": {
          "base_uri": "https://localhost:8080/"
        },
        "id": "zcVWF8Sw-F7D",
        "outputId": "0c30a07e-1c1b-43ce-821f-b99b471e4cce"
      },
      "outputs": [
        {
          "output_type": "stream",
          "name": "stderr",
          "text": [
            "WARNING:absl:Found untraced functions such as _jit_compiled_convolution_op, _jit_compiled_convolution_op while saving (showing 2 of 2). These functions will not be directly callable after loading.\n"
          ]
        }
      ],
      "source": [
        "model.save('185314098_cnn_model.h1')"
      ]
    }
  ],
  "metadata": {
    "kernelspec": {
      "display_name": "dl-env",
      "language": "python",
      "name": "python3"
    },
    "language_info": {
      "codemirror_mode": {
        "name": "ipython",
        "version": 3
      },
      "file_extension": ".py",
      "mimetype": "text/x-python",
      "name": "python",
      "nbconvert_exporter": "python",
      "pygments_lexer": "ipython3",
      "version": "3.7.13"
    },
    "orig_nbformat": 4,
    "vscode": {
      "interpreter": {
        "hash": "569f9bf8ba764d31ef549e16934d9f64ead24cc28a7443d159eb33bd2698cb95"
      }
    },
    "colab": {
      "provenance": []
    },
    "accelerator": "GPU",
    "gpuClass": "standard"
  },
  "nbformat": 4,
  "nbformat_minor": 0
}